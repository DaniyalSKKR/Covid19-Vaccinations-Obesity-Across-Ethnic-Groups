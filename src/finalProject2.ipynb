{
 "cells": [
  {
   "cell_type": "markdown",
   "metadata": {},
   "source": [
    "# Final Project CS418\n",
    "\n",
    "_This file contains the jupyter notebook entailing the application of the data scicence project._\n",
    "_Link to the ppt for the project:<https://docs.google.com/presentation/d/1ZkmopeDAhzznFytpMSVt_lVI8DvZVrbsTyGKRQ1yg-c/edit#slide=id.g2bc228a8286_0_0>_\n",
    "_Link to github: https://github.com/uic-cs418/Mamba-Mentality_\n",
    "\n",
    "***Project Introduction:***\n",
    "\n",
    "    We will be analyzing correlations between two datasets, namely COVID vaccinations that surround the crux of the epidemic as well as the frequency of other viruses that occured during this time frame. Information will be extrapolated from 2020 to 2023 in the United States.\n",
    "\n",
    "    Information will be analyzed by end of week increments citing this consistency in both data sets for more granularity in observations. Coarser data will be extracted on an annual level.\n",
    "\n",
    "    For those afflicated with COVID, we will make observations in regards how ethnic denominations may be affected by the epidemic as well as population density. Are certain groups more susceptible? How about age?\n",
    "\n",
    "    Is there correlations between vaccination rates and pathogen spread, and beyond Covid-19, has there been any effect on those afflicted by other respiratoy illnesses?\n",
    "\n",
    "    Additionally, how effective has bivalent vaccinations performed in diseased populations? This can be observed concurrently with COVID and disjointly.\n",
    "\n",
    "***Any changes:***\n",
    "\n",
    "    The temporal observations have remained consistent, noting the seasonal distributions and changes in bivalent vaccinations and other vacinations. Furthermore, investigations on ethnic demographics will be a significant part of data analysis in regards to observing those afflicted with disease.\n",
    "\n",
    "    Our comparative analysis will provide more data on how vaccinations that occur in parallel with the existence of other diseases changes over a bounded timeset. The specific demographic analysis will be more centralized on its relation to COVID vaccinations which remains consistent with the intial intended procedure."
   ]
  },
  {
   "cell_type": "markdown",
   "metadata": {},
   "source": [
    "## Importing libraries\n"
   ]
  },
  {
   "cell_type": "code",
   "execution_count": 2,
   "metadata": {},
   "outputs": [],
   "source": [
    "import pandas as pd\n",
    "import numpy as np\n",
    "import matplotlib.pyplot as plt\n",
    "%matplotlib inline\n",
    "import plotly.express as px\n",
    "from IPython.display import display, Latex, Markdown\n",
    "import seaborn as sns\n",
    "from sklearn.model_selection import train_test_split\n",
    "from sklearn.linear_model import LinearRegression\n",
    "from sklearn.metrics import mean_squared_error"
   ]
  },
  {
   "cell_type": "markdown",
   "metadata": {},
   "source": [
    "### Importing Data\n"
   ]
  },
  {
   "cell_type": "code",
   "execution_count": 3,
   "metadata": {},
   "outputs": [
    {
     "data": {
      "text/html": [
       "<div>\n",
       "<style scoped>\n",
       "    .dataframe tbody tr th:only-of-type {\n",
       "        vertical-align: middle;\n",
       "    }\n",
       "\n",
       "    .dataframe tbody tr th {\n",
       "        vertical-align: top;\n",
       "    }\n",
       "\n",
       "    .dataframe thead th {\n",
       "        text-align: right;\n",
       "    }\n",
       "</style>\n",
       "<table border=\"1\" class=\"dataframe\">\n",
       "  <thead>\n",
       "    <tr style=\"text-align: right;\">\n",
       "      <th></th>\n",
       "      <th>mmwr_week</th>\n",
       "      <th>week</th>\n",
       "      <th>week_start</th>\n",
       "      <th>week_end</th>\n",
       "      <th>season</th>\n",
       "      <th>pathogen</th>\n",
       "      <th>lab_tot_tested</th>\n",
       "      <th>lab_tot_positive</th>\n",
       "      <th>lab_pct_positive</th>\n",
       "      <th>lab_tot_tested_cumulative</th>\n",
       "      <th>lab_tot_positive_cumulative</th>\n",
       "      <th>lab_pct_positive_cumulative</th>\n",
       "      <th>current_week_ending</th>\n",
       "      <th>row_id</th>\n",
       "    </tr>\n",
       "  </thead>\n",
       "  <tbody>\n",
       "    <tr>\n",
       "      <th>0</th>\n",
       "      <td>201040</td>\n",
       "      <td>40</td>\n",
       "      <td>10/03/2010</td>\n",
       "      <td>10/09/2010</td>\n",
       "      <td>2010-2011</td>\n",
       "      <td>Influenza</td>\n",
       "      <td>129</td>\n",
       "      <td>0</td>\n",
       "      <td>0</td>\n",
       "      <td>129</td>\n",
       "      <td>0</td>\n",
       "      <td>0.00</td>\n",
       "      <td>10/07/2023</td>\n",
       "      <td>201040-Influenza</td>\n",
       "    </tr>\n",
       "    <tr>\n",
       "      <th>1</th>\n",
       "      <td>201041</td>\n",
       "      <td>41</td>\n",
       "      <td>10/10/2010</td>\n",
       "      <td>10/16/2010</td>\n",
       "      <td>2010-2011</td>\n",
       "      <td>Influenza</td>\n",
       "      <td>133</td>\n",
       "      <td>0</td>\n",
       "      <td>0</td>\n",
       "      <td>262</td>\n",
       "      <td>0</td>\n",
       "      <td>0.00</td>\n",
       "      <td>10/14/2023</td>\n",
       "      <td>201041-Influenza</td>\n",
       "    </tr>\n",
       "    <tr>\n",
       "      <th>2</th>\n",
       "      <td>201042</td>\n",
       "      <td>42</td>\n",
       "      <td>10/17/2010</td>\n",
       "      <td>10/23/2010</td>\n",
       "      <td>2010-2011</td>\n",
       "      <td>Influenza</td>\n",
       "      <td>144</td>\n",
       "      <td>0</td>\n",
       "      <td>0</td>\n",
       "      <td>406</td>\n",
       "      <td>0</td>\n",
       "      <td>0.00</td>\n",
       "      <td>10/21/2023</td>\n",
       "      <td>201042-Influenza</td>\n",
       "    </tr>\n",
       "    <tr>\n",
       "      <th>3</th>\n",
       "      <td>201043</td>\n",
       "      <td>43</td>\n",
       "      <td>10/24/2010</td>\n",
       "      <td>10/30/2010</td>\n",
       "      <td>2010-2011</td>\n",
       "      <td>Influenza</td>\n",
       "      <td>135</td>\n",
       "      <td>0</td>\n",
       "      <td>0</td>\n",
       "      <td>541</td>\n",
       "      <td>0</td>\n",
       "      <td>0.00</td>\n",
       "      <td>10/28/2023</td>\n",
       "      <td>201043-Influenza</td>\n",
       "    </tr>\n",
       "    <tr>\n",
       "      <th>4</th>\n",
       "      <td>201044</td>\n",
       "      <td>44</td>\n",
       "      <td>10/31/2010</td>\n",
       "      <td>11/06/2010</td>\n",
       "      <td>2010-2011</td>\n",
       "      <td>Influenza</td>\n",
       "      <td>150</td>\n",
       "      <td>1</td>\n",
       "      <td>0.0066666667</td>\n",
       "      <td>691</td>\n",
       "      <td>1</td>\n",
       "      <td>0.00</td>\n",
       "      <td>11/04/2023</td>\n",
       "      <td>201044-Influenza</td>\n",
       "    </tr>\n",
       "  </tbody>\n",
       "</table>\n",
       "</div>"
      ],
      "text/plain": [
       "   mmwr_week  week  week_start    week_end     season   pathogen  \\\n",
       "0     201040    40  10/03/2010  10/09/2010  2010-2011  Influenza   \n",
       "1     201041    41  10/10/2010  10/16/2010  2010-2011  Influenza   \n",
       "2     201042    42  10/17/2010  10/23/2010  2010-2011  Influenza   \n",
       "3     201043    43  10/24/2010  10/30/2010  2010-2011  Influenza   \n",
       "4     201044    44  10/31/2010  11/06/2010  2010-2011  Influenza   \n",
       "\n",
       "   lab_tot_tested  lab_tot_positive lab_pct_positive  \\\n",
       "0             129                 0                0   \n",
       "1             133                 0                0   \n",
       "2             144                 0                0   \n",
       "3             135                 0                0   \n",
       "4             150                 1     0.0066666667   \n",
       "\n",
       "   lab_tot_tested_cumulative  lab_tot_positive_cumulative  \\\n",
       "0                        129                            0   \n",
       "1                        262                            0   \n",
       "2                        406                            0   \n",
       "3                        541                            0   \n",
       "4                        691                            1   \n",
       "\n",
       "  lab_pct_positive_cumulative current_week_ending            row_id  \n",
       "0                        0.00          10/07/2023  201040-Influenza  \n",
       "1                        0.00          10/14/2023  201041-Influenza  \n",
       "2                        0.00          10/21/2023  201042-Influenza  \n",
       "3                        0.00          10/28/2023  201043-Influenza  \n",
       "4                        0.00          11/04/2023  201044-Influenza  "
      ]
     },
     "execution_count": 3,
     "metadata": {},
     "output_type": "execute_result"
    }
   ],
   "source": [
    "df = pd.read_csv(\"../data/Influenza__COVID-19__RSV__and_Other_Respiratory_Virus_Laboratory_Surveillance.csv\", na_filter=False)\n",
    "df.head()"
   ]
  },
  {
   "cell_type": "markdown",
   "metadata": {},
   "source": [
    "## Step 1: Cleaning Data"
   ]
  },
  {
   "cell_type": "code",
   "execution_count": 4,
   "metadata": {},
   "outputs": [
    {
     "data": {
      "text/html": [
       "<div>\n",
       "<style scoped>\n",
       "    .dataframe tbody tr th:only-of-type {\n",
       "        vertical-align: middle;\n",
       "    }\n",
       "\n",
       "    .dataframe tbody tr th {\n",
       "        vertical-align: top;\n",
       "    }\n",
       "\n",
       "    .dataframe thead th {\n",
       "        text-align: right;\n",
       "    }\n",
       "</style>\n",
       "<table border=\"1\" class=\"dataframe\">\n",
       "  <thead>\n",
       "    <tr style=\"text-align: right;\">\n",
       "      <th></th>\n",
       "      <th>mmwr_week</th>\n",
       "      <th>week</th>\n",
       "      <th>week_start</th>\n",
       "      <th>week_end</th>\n",
       "      <th>season</th>\n",
       "      <th>pathogen</th>\n",
       "      <th>lab_tot_tested</th>\n",
       "      <th>lab_tot_positive</th>\n",
       "      <th>lab_pct_positive</th>\n",
       "      <th>lab_tot_tested_cumulative</th>\n",
       "      <th>lab_tot_positive_cumulative</th>\n",
       "      <th>lab_pct_positive_cumulative</th>\n",
       "      <th>current_week_ending</th>\n",
       "      <th>row_id</th>\n",
       "    </tr>\n",
       "  </thead>\n",
       "  <tbody>\n",
       "    <tr>\n",
       "      <th>0</th>\n",
       "      <td>201040</td>\n",
       "      <td>40</td>\n",
       "      <td>10/03/2010</td>\n",
       "      <td>10/09/2010</td>\n",
       "      <td>2010-2011</td>\n",
       "      <td>Influenza</td>\n",
       "      <td>129</td>\n",
       "      <td>0</td>\n",
       "      <td>0</td>\n",
       "      <td>129</td>\n",
       "      <td>0</td>\n",
       "      <td>0.00</td>\n",
       "      <td>10/07/2023</td>\n",
       "      <td>201040-Influenza</td>\n",
       "    </tr>\n",
       "    <tr>\n",
       "      <th>1</th>\n",
       "      <td>201041</td>\n",
       "      <td>41</td>\n",
       "      <td>10/10/2010</td>\n",
       "      <td>10/16/2010</td>\n",
       "      <td>2010-2011</td>\n",
       "      <td>Influenza</td>\n",
       "      <td>133</td>\n",
       "      <td>0</td>\n",
       "      <td>0</td>\n",
       "      <td>262</td>\n",
       "      <td>0</td>\n",
       "      <td>0.00</td>\n",
       "      <td>10/14/2023</td>\n",
       "      <td>201041-Influenza</td>\n",
       "    </tr>\n",
       "    <tr>\n",
       "      <th>2</th>\n",
       "      <td>201042</td>\n",
       "      <td>42</td>\n",
       "      <td>10/17/2010</td>\n",
       "      <td>10/23/2010</td>\n",
       "      <td>2010-2011</td>\n",
       "      <td>Influenza</td>\n",
       "      <td>144</td>\n",
       "      <td>0</td>\n",
       "      <td>0</td>\n",
       "      <td>406</td>\n",
       "      <td>0</td>\n",
       "      <td>0.00</td>\n",
       "      <td>10/21/2023</td>\n",
       "      <td>201042-Influenza</td>\n",
       "    </tr>\n",
       "    <tr>\n",
       "      <th>3</th>\n",
       "      <td>201043</td>\n",
       "      <td>43</td>\n",
       "      <td>10/24/2010</td>\n",
       "      <td>10/30/2010</td>\n",
       "      <td>2010-2011</td>\n",
       "      <td>Influenza</td>\n",
       "      <td>135</td>\n",
       "      <td>0</td>\n",
       "      <td>0</td>\n",
       "      <td>541</td>\n",
       "      <td>0</td>\n",
       "      <td>0.00</td>\n",
       "      <td>10/28/2023</td>\n",
       "      <td>201043-Influenza</td>\n",
       "    </tr>\n",
       "    <tr>\n",
       "      <th>4</th>\n",
       "      <td>201044</td>\n",
       "      <td>44</td>\n",
       "      <td>10/31/2010</td>\n",
       "      <td>11/06/2010</td>\n",
       "      <td>2010-2011</td>\n",
       "      <td>Influenza</td>\n",
       "      <td>150</td>\n",
       "      <td>1</td>\n",
       "      <td>0.0066666667</td>\n",
       "      <td>691</td>\n",
       "      <td>1</td>\n",
       "      <td>0.00</td>\n",
       "      <td>11/04/2023</td>\n",
       "      <td>201044-Influenza</td>\n",
       "    </tr>\n",
       "  </tbody>\n",
       "</table>\n",
       "</div>"
      ],
      "text/plain": [
       "   mmwr_week  week  week_start    week_end     season   pathogen  \\\n",
       "0     201040    40  10/03/2010  10/09/2010  2010-2011  Influenza   \n",
       "1     201041    41  10/10/2010  10/16/2010  2010-2011  Influenza   \n",
       "2     201042    42  10/17/2010  10/23/2010  2010-2011  Influenza   \n",
       "3     201043    43  10/24/2010  10/30/2010  2010-2011  Influenza   \n",
       "4     201044    44  10/31/2010  11/06/2010  2010-2011  Influenza   \n",
       "\n",
       "   lab_tot_tested  lab_tot_positive lab_pct_positive  \\\n",
       "0             129                 0                0   \n",
       "1             133                 0                0   \n",
       "2             144                 0                0   \n",
       "3             135                 0                0   \n",
       "4             150                 1     0.0066666667   \n",
       "\n",
       "   lab_tot_tested_cumulative  lab_tot_positive_cumulative  \\\n",
       "0                        129                            0   \n",
       "1                        262                            0   \n",
       "2                        406                            0   \n",
       "3                        541                            0   \n",
       "4                        691                            1   \n",
       "\n",
       "  lab_pct_positive_cumulative current_week_ending            row_id  \n",
       "0                        0.00          10/07/2023  201040-Influenza  \n",
       "1                        0.00          10/14/2023  201041-Influenza  \n",
       "2                        0.00          10/21/2023  201042-Influenza  \n",
       "3                        0.00          10/28/2023  201043-Influenza  \n",
       "4                        0.00          11/04/2023  201044-Influenza  "
      ]
     },
     "execution_count": 4,
     "metadata": {},
     "output_type": "execute_result"
    }
   ],
   "source": [
    "df.groupby('season')\n",
    "df.head()"
   ]
  },
  {
   "cell_type": "code",
   "execution_count": 6,
   "metadata": {},
   "outputs": [
    {
     "data": {
      "text/html": [
       "<div>\n",
       "<style scoped>\n",
       "    .dataframe tbody tr th:only-of-type {\n",
       "        vertical-align: middle;\n",
       "    }\n",
       "\n",
       "    .dataframe tbody tr th {\n",
       "        vertical-align: top;\n",
       "    }\n",
       "\n",
       "    .dataframe thead th {\n",
       "        text-align: right;\n",
       "    }\n",
       "</style>\n",
       "<table border=\"1\" class=\"dataframe\">\n",
       "  <thead>\n",
       "    <tr style=\"text-align: right;\">\n",
       "      <th></th>\n",
       "      <th>mmwr_week</th>\n",
       "      <th>week</th>\n",
       "      <th>week_start</th>\n",
       "      <th>week_end</th>\n",
       "      <th>season</th>\n",
       "      <th>pathogen</th>\n",
       "      <th>lab_tot_tested</th>\n",
       "      <th>lab_tot_positive</th>\n",
       "      <th>lab_pct_positive</th>\n",
       "      <th>lab_tot_tested_cumulative</th>\n",
       "      <th>lab_tot_positive_cumulative</th>\n",
       "      <th>lab_pct_positive_cumulative</th>\n",
       "      <th>current_week_ending</th>\n",
       "      <th>row_id</th>\n",
       "    </tr>\n",
       "  </thead>\n",
       "  <tbody>\n",
       "    <tr>\n",
       "      <th>0</th>\n",
       "      <td>201940</td>\n",
       "      <td>40</td>\n",
       "      <td>09/29/2019</td>\n",
       "      <td>10/05/2019</td>\n",
       "      <td>2019-2020</td>\n",
       "      <td>Adenovirus</td>\n",
       "      <td>148</td>\n",
       "      <td>2</td>\n",
       "      <td>0.0135135135</td>\n",
       "      <td>148</td>\n",
       "      <td>2</td>\n",
       "      <td>0.01</td>\n",
       "      <td>10/07/2023</td>\n",
       "      <td>201940-Adenovirus</td>\n",
       "    </tr>\n",
       "    <tr>\n",
       "      <th>1</th>\n",
       "      <td>201940</td>\n",
       "      <td>40</td>\n",
       "      <td>09/29/2019</td>\n",
       "      <td>10/05/2019</td>\n",
       "      <td>2019-2020</td>\n",
       "      <td>Human Metapneumovirus</td>\n",
       "      <td>152</td>\n",
       "      <td>1</td>\n",
       "      <td>0.0065789474</td>\n",
       "      <td>152</td>\n",
       "      <td>1</td>\n",
       "      <td>0.01</td>\n",
       "      <td>10/07/2023</td>\n",
       "      <td>201940-Human Metapneumovirus</td>\n",
       "    </tr>\n",
       "    <tr>\n",
       "      <th>2</th>\n",
       "      <td>201940</td>\n",
       "      <td>40</td>\n",
       "      <td>09/29/2019</td>\n",
       "      <td>10/05/2019</td>\n",
       "      <td>2019-2020</td>\n",
       "      <td>Influenza</td>\n",
       "      <td>653</td>\n",
       "      <td>5</td>\n",
       "      <td>0.0076569678</td>\n",
       "      <td>653</td>\n",
       "      <td>5</td>\n",
       "      <td>0.01</td>\n",
       "      <td>10/07/2023</td>\n",
       "      <td>201940-Influenza</td>\n",
       "    </tr>\n",
       "    <tr>\n",
       "      <th>3</th>\n",
       "      <td>201940</td>\n",
       "      <td>40</td>\n",
       "      <td>09/29/2019</td>\n",
       "      <td>10/05/2019</td>\n",
       "      <td>2019-2020</td>\n",
       "      <td>Parainfluenza</td>\n",
       "      <td>152</td>\n",
       "      <td>8</td>\n",
       "      <td>0.0526315789</td>\n",
       "      <td>152</td>\n",
       "      <td>8</td>\n",
       "      <td>0.05</td>\n",
       "      <td>10/07/2023</td>\n",
       "      <td>201940-Parainfluenza</td>\n",
       "    </tr>\n",
       "    <tr>\n",
       "      <th>4</th>\n",
       "      <td>201940</td>\n",
       "      <td>40</td>\n",
       "      <td>09/29/2019</td>\n",
       "      <td>10/05/2019</td>\n",
       "      <td>2019-2020</td>\n",
       "      <td>RSV</td>\n",
       "      <td>152</td>\n",
       "      <td>0</td>\n",
       "      <td>0</td>\n",
       "      <td>152</td>\n",
       "      <td>0</td>\n",
       "      <td>0.00</td>\n",
       "      <td>10/07/2023</td>\n",
       "      <td>201940-RSV</td>\n",
       "    </tr>\n",
       "    <tr>\n",
       "      <th>...</th>\n",
       "      <td>...</td>\n",
       "      <td>...</td>\n",
       "      <td>...</td>\n",
       "      <td>...</td>\n",
       "      <td>...</td>\n",
       "      <td>...</td>\n",
       "      <td>...</td>\n",
       "      <td>...</td>\n",
       "      <td>...</td>\n",
       "      <td>...</td>\n",
       "      <td>...</td>\n",
       "      <td>...</td>\n",
       "      <td>...</td>\n",
       "      <td>...</td>\n",
       "    </tr>\n",
       "    <tr>\n",
       "      <th>1803</th>\n",
       "      <td>202405</td>\n",
       "      <td>5</td>\n",
       "      <td>01/28/2024</td>\n",
       "      <td>02/03/2024</td>\n",
       "      <td>2023-2024</td>\n",
       "      <td>RSV</td>\n",
       "      <td>3125</td>\n",
       "      <td>105</td>\n",
       "      <td>0.0336</td>\n",
       "      <td>63227</td>\n",
       "      <td>4743</td>\n",
       "      <td>0.08</td>\n",
       "      <td>02/03/2024</td>\n",
       "      <td>202405-RSV</td>\n",
       "    </tr>\n",
       "    <tr>\n",
       "      <th>1804</th>\n",
       "      <td>202405</td>\n",
       "      <td>5</td>\n",
       "      <td>01/28/2024</td>\n",
       "      <td>02/03/2024</td>\n",
       "      <td>2023-2024</td>\n",
       "      <td>Rhinovirus/Enterovirus</td>\n",
       "      <td>834</td>\n",
       "      <td>56</td>\n",
       "      <td>0.067146283</td>\n",
       "      <td>17523</td>\n",
       "      <td>2279</td>\n",
       "      <td>0.13</td>\n",
       "      <td>02/03/2024</td>\n",
       "      <td>202405-Rhinovirus/Enterovirus</td>\n",
       "    </tr>\n",
       "    <tr>\n",
       "      <th>1805</th>\n",
       "      <td>202405</td>\n",
       "      <td>5</td>\n",
       "      <td>01/28/2024</td>\n",
       "      <td>02/03/2024</td>\n",
       "      <td>2023-2024</td>\n",
       "      <td>SARS-CoV-2</td>\n",
       "      <td>3703</td>\n",
       "      <td>272</td>\n",
       "      <td>0.0734539563</td>\n",
       "      <td>70234</td>\n",
       "      <td>6273</td>\n",
       "      <td>0.09</td>\n",
       "      <td>02/03/2024</td>\n",
       "      <td>202405-SARS-CoV-2</td>\n",
       "    </tr>\n",
       "    <tr>\n",
       "      <th>1806</th>\n",
       "      <td>202405</td>\n",
       "      <td>5</td>\n",
       "      <td>01/28/2024</td>\n",
       "      <td>02/03/2024</td>\n",
       "      <td>2023-2024</td>\n",
       "      <td>Seasonal Coronaviruses</td>\n",
       "      <td>1671</td>\n",
       "      <td>43</td>\n",
       "      <td>0.025733094</td>\n",
       "      <td>31461</td>\n",
       "      <td>399</td>\n",
       "      <td>0.01</td>\n",
       "      <td>02/03/2024</td>\n",
       "      <td>202405-Seasonal Coronaviruses</td>\n",
       "    </tr>\n",
       "    <tr>\n",
       "      <th>1807</th>\n",
       "      <td>202403</td>\n",
       "      <td>3</td>\n",
       "      <td>01/14/2024</td>\n",
       "      <td>01/20/2024</td>\n",
       "      <td>2023-2024</td>\n",
       "      <td>SARS-CoV-2</td>\n",
       "      <td>3378</td>\n",
       "      <td>278</td>\n",
       "      <td>0.0822972173</td>\n",
       "      <td>63011</td>\n",
       "      <td>5713</td>\n",
       "      <td>0.09</td>\n",
       "      <td>01/20/2024</td>\n",
       "      <td>202403-SARS-CoV-2</td>\n",
       "    </tr>\n",
       "  </tbody>\n",
       "</table>\n",
       "<p>1808 rows × 14 columns</p>\n",
       "</div>"
      ],
      "text/plain": [
       "      mmwr_week  week  week_start    week_end     season  \\\n",
       "0        201940    40  09/29/2019  10/05/2019  2019-2020   \n",
       "1        201940    40  09/29/2019  10/05/2019  2019-2020   \n",
       "2        201940    40  09/29/2019  10/05/2019  2019-2020   \n",
       "3        201940    40  09/29/2019  10/05/2019  2019-2020   \n",
       "4        201940    40  09/29/2019  10/05/2019  2019-2020   \n",
       "...         ...   ...         ...         ...        ...   \n",
       "1803     202405     5  01/28/2024  02/03/2024  2023-2024   \n",
       "1804     202405     5  01/28/2024  02/03/2024  2023-2024   \n",
       "1805     202405     5  01/28/2024  02/03/2024  2023-2024   \n",
       "1806     202405     5  01/28/2024  02/03/2024  2023-2024   \n",
       "1807     202403     3  01/14/2024  01/20/2024  2023-2024   \n",
       "\n",
       "                    pathogen  lab_tot_tested  lab_tot_positive  \\\n",
       "0                 Adenovirus             148                 2   \n",
       "1      Human Metapneumovirus             152                 1   \n",
       "2                  Influenza             653                 5   \n",
       "3              Parainfluenza             152                 8   \n",
       "4                        RSV             152                 0   \n",
       "...                      ...             ...               ...   \n",
       "1803                     RSV            3125               105   \n",
       "1804  Rhinovirus/Enterovirus             834                56   \n",
       "1805              SARS-CoV-2            3703               272   \n",
       "1806  Seasonal Coronaviruses            1671                43   \n",
       "1807              SARS-CoV-2            3378               278   \n",
       "\n",
       "     lab_pct_positive  lab_tot_tested_cumulative  lab_tot_positive_cumulative  \\\n",
       "0        0.0135135135                        148                            2   \n",
       "1        0.0065789474                        152                            1   \n",
       "2        0.0076569678                        653                            5   \n",
       "3        0.0526315789                        152                            8   \n",
       "4                   0                        152                            0   \n",
       "...               ...                        ...                          ...   \n",
       "1803           0.0336                      63227                         4743   \n",
       "1804      0.067146283                      17523                         2279   \n",
       "1805     0.0734539563                      70234                         6273   \n",
       "1806      0.025733094                      31461                          399   \n",
       "1807     0.0822972173                      63011                         5713   \n",
       "\n",
       "     lab_pct_positive_cumulative current_week_ending  \\\n",
       "0                           0.01          10/07/2023   \n",
       "1                           0.01          10/07/2023   \n",
       "2                           0.01          10/07/2023   \n",
       "3                           0.05          10/07/2023   \n",
       "4                           0.00          10/07/2023   \n",
       "...                          ...                 ...   \n",
       "1803                        0.08          02/03/2024   \n",
       "1804                        0.13          02/03/2024   \n",
       "1805                        0.09          02/03/2024   \n",
       "1806                        0.01          02/03/2024   \n",
       "1807                        0.09          01/20/2024   \n",
       "\n",
       "                             row_id  \n",
       "0                 201940-Adenovirus  \n",
       "1      201940-Human Metapneumovirus  \n",
       "2                  201940-Influenza  \n",
       "3              201940-Parainfluenza  \n",
       "4                        201940-RSV  \n",
       "...                             ...  \n",
       "1803                     202405-RSV  \n",
       "1804  202405-Rhinovirus/Enterovirus  \n",
       "1805              202405-SARS-CoV-2  \n",
       "1806  202405-Seasonal Coronaviruses  \n",
       "1807              202403-SARS-CoV-2  \n",
       "\n",
       "[1808 rows x 14 columns]"
      ]
     },
     "execution_count": 6,
     "metadata": {},
     "output_type": "execute_result"
    }
   ],
   "source": [
    "df = df[df['season'] > '2018-2019']\n",
    "df_covid_era = df.copy()\n",
    "df_covid_era.head()\n",
    "df_covid_era.reset_index(drop=True)"
   ]
  },
  {
   "cell_type": "code",
   "execution_count": 7,
   "metadata": {},
   "outputs": [],
   "source": [
    "# df_covid_era.fillna(value={'lab_pct_positive':np.nan}, inplace=True)\n",
    "df_covid_era.dropna(inplace=True)\n"
   ]
  },
  {
   "cell_type": "code",
   "execution_count": 8,
   "metadata": {},
   "outputs": [
    {
     "name": "stdout",
     "output_type": "stream",
     "text": [
      "Size of the covid_data: (212, 14)\n"
     ]
    }
   ],
   "source": [
    "# Filtering out data before 2020 and focus on COVID-19 data\n",
    "\n",
    "df_covid_era['week_start'] = pd.to_datetime(df_covid_era['week_start'])\n",
    "df_covid_era['week_end'] = pd.to_datetime(df_covid_era['week_end'])\n",
    "\n",
    "covid_data = df_covid_era[(df_covid_era['week_start'] >= '2020-01-01') & (df_covid_era['pathogen']  == 'SARS-CoV-2')]\n",
    "\n",
    "df_covid_era.head()\n",
    "covid_data.head()\n",
    "print(\"Size of the covid_data:\", covid_data.shape)\n"
   ]
  },
  {
   "cell_type": "code",
   "execution_count": 10,
   "metadata": {},
   "outputs": [
    {
     "data": {
      "text/html": [
       "<div>\n",
       "<style scoped>\n",
       "    .dataframe tbody tr th:only-of-type {\n",
       "        vertical-align: middle;\n",
       "    }\n",
       "\n",
       "    .dataframe tbody tr th {\n",
       "        vertical-align: top;\n",
       "    }\n",
       "\n",
       "    .dataframe thead th {\n",
       "        text-align: right;\n",
       "    }\n",
       "</style>\n",
       "<table border=\"1\" class=\"dataframe\">\n",
       "  <thead>\n",
       "    <tr style=\"text-align: right;\">\n",
       "      <th></th>\n",
       "      <th>week_end</th>\n",
       "      <th>Age Group</th>\n",
       "      <th>Race/Ethnicity</th>\n",
       "      <th>Population Size</th>\n",
       "      <th>1st Dose</th>\n",
       "      <th>1st Dose Percent</th>\n",
       "      <th>Vaccine Series Completed</th>\n",
       "      <th>Vaccine Series Completed Percent</th>\n",
       "      <th>Boosted</th>\n",
       "      <th>Boosted Percent</th>\n",
       "      <th>Bivalent</th>\n",
       "      <th>Bivalent Percent</th>\n",
       "    </tr>\n",
       "  </thead>\n",
       "  <tbody>\n",
       "    <tr>\n",
       "      <th>0</th>\n",
       "      <td>2020-12-19</td>\n",
       "      <td>0-4</td>\n",
       "      <td>Latinx</td>\n",
       "      <td>54903</td>\n",
       "      <td>0</td>\n",
       "      <td>0.0</td>\n",
       "      <td>0</td>\n",
       "      <td>0.0</td>\n",
       "      <td>0</td>\n",
       "      <td>0.0</td>\n",
       "      <td>0</td>\n",
       "      <td>0.0</td>\n",
       "    </tr>\n",
       "    <tr>\n",
       "      <th>1</th>\n",
       "      <td>2020-12-19</td>\n",
       "      <td>0-4</td>\n",
       "      <td>Black, non-Latinx</td>\n",
       "      <td>47946</td>\n",
       "      <td>0</td>\n",
       "      <td>0.0</td>\n",
       "      <td>0</td>\n",
       "      <td>0.0</td>\n",
       "      <td>0</td>\n",
       "      <td>0.0</td>\n",
       "      <td>0</td>\n",
       "      <td>0.0</td>\n",
       "    </tr>\n",
       "    <tr>\n",
       "      <th>2</th>\n",
       "      <td>2020-12-19</td>\n",
       "      <td>0-4</td>\n",
       "      <td>White, non-Latinx</td>\n",
       "      <td>42995</td>\n",
       "      <td>0</td>\n",
       "      <td>0.0</td>\n",
       "      <td>0</td>\n",
       "      <td>0.0</td>\n",
       "      <td>0</td>\n",
       "      <td>0.0</td>\n",
       "      <td>0</td>\n",
       "      <td>0.0</td>\n",
       "    </tr>\n",
       "    <tr>\n",
       "      <th>3</th>\n",
       "      <td>2020-12-19</td>\n",
       "      <td>0-4</td>\n",
       "      <td>Asian, non-Latinx</td>\n",
       "      <td>9998</td>\n",
       "      <td>0</td>\n",
       "      <td>0.0</td>\n",
       "      <td>0</td>\n",
       "      <td>0.0</td>\n",
       "      <td>0</td>\n",
       "      <td>0.0</td>\n",
       "      <td>0</td>\n",
       "      <td>0.0</td>\n",
       "    </tr>\n",
       "    <tr>\n",
       "      <th>4</th>\n",
       "      <td>2020-12-19</td>\n",
       "      <td>0-4</td>\n",
       "      <td>Other, non-Latinx</td>\n",
       "      <td>6925</td>\n",
       "      <td>0</td>\n",
       "      <td>0.0</td>\n",
       "      <td>0</td>\n",
       "      <td>0.0</td>\n",
       "      <td>0</td>\n",
       "      <td>0.0</td>\n",
       "      <td>0</td>\n",
       "      <td>0.0</td>\n",
       "    </tr>\n",
       "  </tbody>\n",
       "</table>\n",
       "</div>"
      ],
      "text/plain": [
       "    week_end Age Group     Race/Ethnicity Population Size 1st Dose  \\\n",
       "0 2020-12-19       0-4             Latinx           54903        0   \n",
       "1 2020-12-19       0-4  Black, non-Latinx           47946        0   \n",
       "2 2020-12-19       0-4  White, non-Latinx           42995        0   \n",
       "3 2020-12-19       0-4  Asian, non-Latinx            9998        0   \n",
       "4 2020-12-19       0-4  Other, non-Latinx            6925        0   \n",
       "\n",
       "  1st Dose Percent Vaccine Series Completed Vaccine Series Completed Percent  \\\n",
       "0              0.0                        0                              0.0   \n",
       "1              0.0                        0                              0.0   \n",
       "2              0.0                        0                              0.0   \n",
       "3              0.0                        0                              0.0   \n",
       "4              0.0                        0                              0.0   \n",
       "\n",
       "  Boosted Boosted Percent Bivalent Bivalent Percent  \n",
       "0       0             0.0        0              0.0  \n",
       "1       0             0.0        0              0.0  \n",
       "2       0             0.0        0              0.0  \n",
       "3       0             0.0        0              0.0  \n",
       "4       0             0.0        0              0.0  "
      ]
     },
     "execution_count": 10,
     "metadata": {},
     "output_type": "execute_result"
    }
   ],
   "source": [
    "vaccinations_by_ethinicity = pd.read_csv(\"../data/COVID-19_Vaccinations_by_Age_and_Race-Ethnicity_-_Historical.csv\", na_filter=False)\n",
    "vaccinations_by_ethinicity.rename(columns={'Week End': 'week_end'}, inplace=True)\n",
    "vaccinations_by_ethinicity['week_end'] = pd.to_datetime(vaccinations_by_ethinicity['week_end'], format='%m/%d/%Y')\n",
    "\n",
    "vaccinations_by_ethinicity.head()"
   ]
  },
  {
   "cell_type": "markdown",
   "metadata": {},
   "source": [
    "##### Merging of 2 dataframes"
   ]
  },
  {
   "cell_type": "code",
   "execution_count": 13,
   "metadata": {},
   "outputs": [
    {
     "name": "stdout",
     "output_type": "stream",
     "text": [
      "Size of the covid_data: (212, 14)\n",
      "Size of the vaccinations_by_ethinicity: (7600, 12)\n",
      "Size of the df_final: (7012, 25)\n"
     ]
    }
   ],
   "source": [
    "df_final = pd.merge(covid_data, vaccinations_by_ethinicity, on='week_end', how='inner')\n",
    "df_final.dropna(inplace=True)\n",
    "df_final.replace({\"\" : np.nan, None : np.nan, \"NA\" : np.nan, \"N/A\" : np.nan}, inplace=True)\n",
    "\n",
    "df_final.head()\n",
    "print(\"Size of the covid_data:\", covid_data.shape)\n",
    "print(\"Size of the vaccinations_by_ethinicity:\", vaccinations_by_ethinicity.shape)\n",
    "print(\"Size of the df_final:\", df_final.shape)"
   ]
  },
  {
   "cell_type": "code",
   "execution_count": 17,
   "metadata": {},
   "outputs": [
    {
     "data": {
      "text/plain": [
       "Index(['mmwr_week', 'week', 'week_start', 'week_end', 'season', 'pathogen',\n",
       "       'lab_tot_tested', 'lab_tot_positive', 'lab_pct_positive',\n",
       "       'lab_tot_tested_cumulative', 'lab_tot_positive_cumulative',\n",
       "       'lab_pct_positive_cumulative', 'current_week_ending', 'row_id',\n",
       "       'Age Group', 'Race/Ethnicity', 'Population Size', '1st Dose',\n",
       "       '1st Dose Percent', 'Vaccine Series Completed',\n",
       "       'Vaccine Series Completed Percent', 'Boosted', 'Boosted Percent',\n",
       "       'Bivalent', 'Bivalent Percent'],\n",
       "      dtype='object')"
      ]
     },
     "execution_count": 17,
     "metadata": {},
     "output_type": "execute_result"
    }
   ],
   "source": [
    "# df_final['Vaccine Series Completed'] = pd.to_numeric(df_final['Vaccine Series Completed'], errors='coerce')\n",
    "# df_final.dropna(subset=['Vaccine Series Completed'], inplace=True)\n",
    "\n",
    "df_final.to_csv('../data/final_df.csv', index=False)\n",
    "df_final_copy = df_final.copy()\n",
    "df_final_copy.replace({\"\" : np.nan, None : np.nan, \"NA\" : np.nan, \"N/A\" : np.nan}, inplace=True)\n",
    "df_final_copy.columns"
   ]
  },
  {
   "cell_type": "markdown",
   "metadata": {},
   "source": [
    "## `Exploratory data analysis(EDA):`\n",
    "### EDA Objectives:\n",
    "1. **Trend Analysis**: Examine how COVID-19 cases and vaccination rates have changed over time.\n",
    "2. **Demographic Analysis**: Analyze vaccination rates across different demographics to identify disparities.\n",
    "3. **Correlation Analysis**: Investigate potential correlations between COVID-19 case surges and changes in vaccination rates.\n",
    "\n",
    "Let's start with the EDA by visualizing the trends of COVID-19 cases and vaccination rates over time and then across different demographics. We'll look at the overall vaccination rate trend first and then examine the rates across different racial/ethnic groups.\n"
   ]
  },
  {
   "cell_type": "markdown",
   "metadata": {},
   "source": [
    "### Summary statistics of the final data frame after merger of both data frames"
   ]
  },
  {
   "cell_type": "code",
   "execution_count": 18,
   "metadata": {},
   "outputs": [
    {
     "data": {
      "text/html": [
       "<div>\n",
       "<style scoped>\n",
       "    .dataframe tbody tr th:only-of-type {\n",
       "        vertical-align: middle;\n",
       "    }\n",
       "\n",
       "    .dataframe tbody tr th {\n",
       "        vertical-align: top;\n",
       "    }\n",
       "\n",
       "    .dataframe thead th {\n",
       "        text-align: right;\n",
       "    }\n",
       "</style>\n",
       "<table border=\"1\" class=\"dataframe\">\n",
       "  <thead>\n",
       "    <tr style=\"text-align: right;\">\n",
       "      <th></th>\n",
       "      <th>mmwr_week</th>\n",
       "      <th>week</th>\n",
       "      <th>week_start</th>\n",
       "      <th>week_end</th>\n",
       "      <th>lab_tot_tested</th>\n",
       "      <th>lab_tot_positive</th>\n",
       "      <th>lab_tot_tested_cumulative</th>\n",
       "      <th>lab_tot_positive_cumulative</th>\n",
       "    </tr>\n",
       "  </thead>\n",
       "  <tbody>\n",
       "    <tr>\n",
       "      <th>count</th>\n",
       "      <td>7012.000000</td>\n",
       "      <td>7012.000000</td>\n",
       "      <td>7012</td>\n",
       "      <td>7012</td>\n",
       "      <td>7012.000000</td>\n",
       "      <td>7012.000000</td>\n",
       "      <td>7012.000000</td>\n",
       "      <td>7012.000000</td>\n",
       "    </tr>\n",
       "    <tr>\n",
       "      <th>mean</th>\n",
       "      <td>202211.560896</td>\n",
       "      <td>24.909441</td>\n",
       "      <td>2022-04-30 16:18:33.063319808</td>\n",
       "      <td>2022-05-06 16:18:33.063320064</td>\n",
       "      <td>6543.932829</td>\n",
       "      <td>598.317741</td>\n",
       "      <td>217637.902168</td>\n",
       "      <td>22333.685111</td>\n",
       "    </tr>\n",
       "    <tr>\n",
       "      <th>min</th>\n",
       "      <td>202051.000000</td>\n",
       "      <td>1.000000</td>\n",
       "      <td>2020-12-13 00:00:00</td>\n",
       "      <td>2020-12-19 00:00:00</td>\n",
       "      <td>1585.000000</td>\n",
       "      <td>33.000000</td>\n",
       "      <td>7590.000000</td>\n",
       "      <td>329.000000</td>\n",
       "    </tr>\n",
       "    <tr>\n",
       "      <th>25%</th>\n",
       "      <td>202134.000000</td>\n",
       "      <td>12.000000</td>\n",
       "      <td>2021-08-22 00:00:00</td>\n",
       "      <td>2021-08-28 00:00:00</td>\n",
       "      <td>4398.000000</td>\n",
       "      <td>206.000000</td>\n",
       "      <td>145990.000000</td>\n",
       "      <td>11897.000000</td>\n",
       "    </tr>\n",
       "    <tr>\n",
       "      <th>50%</th>\n",
       "      <td>202218.000000</td>\n",
       "      <td>24.000000</td>\n",
       "      <td>2022-05-01 00:00:00</td>\n",
       "      <td>2022-05-07 00:00:00</td>\n",
       "      <td>6507.000000</td>\n",
       "      <td>379.000000</td>\n",
       "      <td>208878.000000</td>\n",
       "      <td>23056.000000</td>\n",
       "    </tr>\n",
       "    <tr>\n",
       "      <th>75%</th>\n",
       "      <td>202302.000000</td>\n",
       "      <td>36.000000</td>\n",
       "      <td>2023-01-08 00:00:00</td>\n",
       "      <td>2023-01-14 00:00:00</td>\n",
       "      <td>8159.000000</td>\n",
       "      <td>693.000000</td>\n",
       "      <td>292431.000000</td>\n",
       "      <td>31169.000000</td>\n",
       "    </tr>\n",
       "    <tr>\n",
       "      <th>max</th>\n",
       "      <td>202337.000000</td>\n",
       "      <td>52.000000</td>\n",
       "      <td>2023-09-10 00:00:00</td>\n",
       "      <td>2023-09-16 00:00:00</td>\n",
       "      <td>19927.000000</td>\n",
       "      <td>6821.000000</td>\n",
       "      <td>471126.000000</td>\n",
       "      <td>54521.000000</td>\n",
       "    </tr>\n",
       "    <tr>\n",
       "      <th>std</th>\n",
       "      <td>79.072190</td>\n",
       "      <td>14.633016</td>\n",
       "      <td>NaN</td>\n",
       "      <td>NaN</td>\n",
       "      <td>3122.938338</td>\n",
       "      <td>878.685298</td>\n",
       "      <td>109239.486178</td>\n",
       "      <td>14119.604217</td>\n",
       "    </tr>\n",
       "  </tbody>\n",
       "</table>\n",
       "</div>"
      ],
      "text/plain": [
       "           mmwr_week         week                     week_start  \\\n",
       "count    7012.000000  7012.000000                           7012   \n",
       "mean   202211.560896    24.909441  2022-04-30 16:18:33.063319808   \n",
       "min    202051.000000     1.000000            2020-12-13 00:00:00   \n",
       "25%    202134.000000    12.000000            2021-08-22 00:00:00   \n",
       "50%    202218.000000    24.000000            2022-05-01 00:00:00   \n",
       "75%    202302.000000    36.000000            2023-01-08 00:00:00   \n",
       "max    202337.000000    52.000000            2023-09-10 00:00:00   \n",
       "std        79.072190    14.633016                            NaN   \n",
       "\n",
       "                            week_end  lab_tot_tested  lab_tot_positive  \\\n",
       "count                           7012     7012.000000       7012.000000   \n",
       "mean   2022-05-06 16:18:33.063320064     6543.932829        598.317741   \n",
       "min              2020-12-19 00:00:00     1585.000000         33.000000   \n",
       "25%              2021-08-28 00:00:00     4398.000000        206.000000   \n",
       "50%              2022-05-07 00:00:00     6507.000000        379.000000   \n",
       "75%              2023-01-14 00:00:00     8159.000000        693.000000   \n",
       "max              2023-09-16 00:00:00    19927.000000       6821.000000   \n",
       "std                              NaN     3122.938338        878.685298   \n",
       "\n",
       "       lab_tot_tested_cumulative  lab_tot_positive_cumulative  \n",
       "count                7012.000000                  7012.000000  \n",
       "mean               217637.902168                 22333.685111  \n",
       "min                  7590.000000                   329.000000  \n",
       "25%                145990.000000                 11897.000000  \n",
       "50%                208878.000000                 23056.000000  \n",
       "75%                292431.000000                 31169.000000  \n",
       "max                471126.000000                 54521.000000  \n",
       "std                109239.486178                 14119.604217  "
      ]
     },
     "execution_count": 18,
     "metadata": {},
     "output_type": "execute_result"
    }
   ],
   "source": [
    "summary_statistics = df_final.describe()\n",
    "summary_statistics"
   ]
  },
  {
   "cell_type": "markdown",
   "metadata": {},
   "source": [
    "## This graph tests the hypothesis \"Positivity rate of COVID-19 significantly increases following major public events or holidays\""
   ]
  },
  {
   "cell_type": "code",
   "execution_count": 19,
   "metadata": {},
   "outputs": [
    {
     "data": {
      "application/vnd.plotly.v1+json": {
       "config": {
        "plotlyServerURL": "https://plot.ly"
       },
       "data": [
        {
         "hovertemplate": "Date=%{x}<br>Positivity Rate=%{y}<extra></extra>",
         "legendgroup": "",
         "line": {
          "color": "#636efa",
          "dash": "solid"
         },
         "marker": {
          "symbol": "circle"
         },
         "mode": "markers+lines",
         "name": "",
         "orientation": "v",
         "showlegend": false,
         "type": "scatter",
         "x": [
          "2020-01-05T00:00:00",
          "2020-01-12T00:00:00",
          "2020-01-19T00:00:00",
          "2020-01-26T00:00:00",
          "2020-02-02T00:00:00",
          "2020-02-09T00:00:00",
          "2020-02-16T00:00:00",
          "2020-02-23T00:00:00",
          "2020-03-01T00:00:00",
          "2020-03-08T00:00:00",
          "2020-03-15T00:00:00",
          "2020-03-22T00:00:00",
          "2020-03-29T00:00:00",
          "2020-04-05T00:00:00",
          "2020-04-12T00:00:00",
          "2020-04-19T00:00:00",
          "2020-04-26T00:00:00",
          "2020-05-03T00:00:00",
          "2020-05-10T00:00:00",
          "2020-05-17T00:00:00",
          "2020-05-24T00:00:00",
          "2020-05-31T00:00:00",
          "2020-06-07T00:00:00",
          "2020-06-14T00:00:00",
          "2020-06-21T00:00:00",
          "2020-06-28T00:00:00",
          "2020-07-05T00:00:00",
          "2020-07-12T00:00:00",
          "2020-07-19T00:00:00",
          "2020-07-26T00:00:00",
          "2020-08-02T00:00:00",
          "2020-08-09T00:00:00",
          "2020-08-16T00:00:00",
          "2020-08-23T00:00:00",
          "2020-08-30T00:00:00",
          "2020-09-06T00:00:00",
          "2020-09-13T00:00:00",
          "2020-09-20T00:00:00",
          "2020-09-27T00:00:00",
          "2020-10-04T00:00:00",
          "2020-10-11T00:00:00",
          "2020-10-18T00:00:00",
          "2020-10-25T00:00:00",
          "2020-11-01T00:00:00",
          "2020-11-08T00:00:00",
          "2020-11-15T00:00:00",
          "2020-11-22T00:00:00",
          "2020-11-29T00:00:00",
          "2020-12-06T00:00:00",
          "2020-12-13T00:00:00",
          "2020-12-20T00:00:00",
          "2020-12-27T00:00:00",
          "2021-01-03T00:00:00",
          "2021-01-10T00:00:00",
          "2021-01-17T00:00:00",
          "2021-01-24T00:00:00",
          "2021-01-31T00:00:00",
          "2021-02-07T00:00:00",
          "2021-02-14T00:00:00",
          "2021-02-21T00:00:00",
          "2021-02-28T00:00:00",
          "2021-03-07T00:00:00",
          "2021-03-14T00:00:00",
          "2021-03-21T00:00:00",
          "2021-03-28T00:00:00",
          "2021-04-04T00:00:00",
          "2021-04-11T00:00:00",
          "2021-04-18T00:00:00",
          "2021-04-25T00:00:00",
          "2021-05-02T00:00:00",
          "2021-05-09T00:00:00",
          "2021-05-16T00:00:00",
          "2021-05-23T00:00:00",
          "2021-05-30T00:00:00",
          "2021-06-06T00:00:00",
          "2021-06-13T00:00:00",
          "2021-06-20T00:00:00",
          "2021-06-27T00:00:00",
          "2021-07-04T00:00:00",
          "2021-07-11T00:00:00",
          "2021-07-18T00:00:00",
          "2021-07-25T00:00:00",
          "2021-08-01T00:00:00",
          "2021-08-08T00:00:00",
          "2021-08-15T00:00:00",
          "2021-08-22T00:00:00",
          "2021-08-29T00:00:00",
          "2021-09-05T00:00:00",
          "2021-09-12T00:00:00",
          "2021-09-19T00:00:00",
          "2021-09-26T00:00:00",
          "2021-10-03T00:00:00",
          "2021-10-10T00:00:00",
          "2021-10-17T00:00:00",
          "2021-10-24T00:00:00",
          "2021-10-31T00:00:00",
          "2021-11-07T00:00:00",
          "2021-11-14T00:00:00",
          "2021-11-21T00:00:00",
          "2021-11-28T00:00:00",
          "2021-12-05T00:00:00",
          "2021-12-12T00:00:00",
          "2021-12-19T00:00:00",
          "2021-12-26T00:00:00",
          "2022-01-02T00:00:00",
          "2022-01-09T00:00:00",
          "2022-01-16T00:00:00",
          "2022-01-23T00:00:00",
          "2022-01-30T00:00:00",
          "2022-02-06T00:00:00",
          "2022-02-13T00:00:00",
          "2022-02-20T00:00:00",
          "2022-02-27T00:00:00",
          "2022-03-06T00:00:00",
          "2022-03-13T00:00:00",
          "2022-03-20T00:00:00",
          "2022-03-27T00:00:00",
          "2022-04-03T00:00:00",
          "2022-04-10T00:00:00",
          "2022-04-17T00:00:00",
          "2022-04-24T00:00:00",
          "2022-05-01T00:00:00",
          "2022-05-08T00:00:00",
          "2022-05-15T00:00:00",
          "2022-05-22T00:00:00",
          "2022-05-29T00:00:00",
          "2022-06-05T00:00:00",
          "2022-06-12T00:00:00",
          "2022-06-19T00:00:00",
          "2022-06-26T00:00:00",
          "2022-07-03T00:00:00",
          "2022-07-10T00:00:00",
          "2022-07-17T00:00:00",
          "2022-07-24T00:00:00",
          "2022-07-31T00:00:00",
          "2022-08-07T00:00:00",
          "2022-08-14T00:00:00",
          "2022-08-21T00:00:00",
          "2022-08-28T00:00:00",
          "2022-09-04T00:00:00",
          "2022-09-11T00:00:00",
          "2022-09-18T00:00:00",
          "2022-09-25T00:00:00",
          "2022-10-02T00:00:00",
          "2022-10-09T00:00:00",
          "2022-10-16T00:00:00",
          "2022-10-23T00:00:00",
          "2022-10-30T00:00:00",
          "2022-11-06T00:00:00",
          "2022-11-13T00:00:00",
          "2022-11-20T00:00:00",
          "2022-11-27T00:00:00",
          "2022-12-04T00:00:00",
          "2022-12-11T00:00:00",
          "2022-12-18T00:00:00",
          "2022-12-25T00:00:00",
          "2023-01-01T00:00:00",
          "2023-01-08T00:00:00",
          "2023-01-15T00:00:00",
          "2023-01-22T00:00:00",
          "2023-01-29T00:00:00",
          "2023-02-05T00:00:00",
          "2023-02-12T00:00:00",
          "2023-02-19T00:00:00",
          "2023-02-26T00:00:00",
          "2023-03-05T00:00:00",
          "2023-03-12T00:00:00",
          "2023-03-19T00:00:00",
          "2023-03-26T00:00:00",
          "2023-04-02T00:00:00",
          "2023-04-09T00:00:00",
          "2023-04-16T00:00:00",
          "2023-04-23T00:00:00",
          "2023-04-30T00:00:00",
          "2023-05-07T00:00:00",
          "2023-05-14T00:00:00",
          "2023-05-21T00:00:00",
          "2023-05-28T00:00:00",
          "2023-06-04T00:00:00",
          "2023-06-11T00:00:00",
          "2023-06-18T00:00:00",
          "2023-06-25T00:00:00",
          "2023-07-02T00:00:00",
          "2023-07-09T00:00:00",
          "2023-07-16T00:00:00",
          "2023-07-23T00:00:00",
          "2023-07-30T00:00:00",
          "2023-08-06T00:00:00",
          "2023-08-13T00:00:00",
          "2023-08-20T00:00:00",
          "2023-08-27T00:00:00",
          "2023-09-03T00:00:00",
          "2023-09-10T00:00:00",
          "2023-09-17T00:00:00",
          "2023-09-24T00:00:00",
          "2023-10-01T00:00:00",
          "2023-10-08T00:00:00",
          "2023-10-15T00:00:00",
          "2023-10-22T00:00:00",
          "2023-10-29T00:00:00",
          "2023-11-05T00:00:00",
          "2023-11-12T00:00:00",
          "2023-11-19T00:00:00",
          "2023-11-26T00:00:00",
          "2023-12-03T00:00:00",
          "2023-12-10T00:00:00",
          "2023-12-17T00:00:00",
          "2023-12-24T00:00:00",
          "2023-12-31T00:00:00",
          "2024-01-07T00:00:00",
          "2024-01-14T00:00:00",
          "2024-01-21T00:00:00",
          "2024-01-28T00:00:00"
         ],
         "xaxis": "x",
         "y": [
          3.5096117761792205,
          1.1098858172153536,
          0.13560414805579282,
          3.156742175806508,
          2.73444374852833,
          2.822693941058292,
          4.54656780383241,
          3.140521297429709,
          4.006202685476527,
          1.4181436461323567,
          2.1867588469254464,
          4.6708549521918155,
          2.9225630378548813,
          3.466997992613173,
          2.692855254835416,
          3.9601884933601865,
          5.578888024805834,
          4.491991686077458,
          5.009391427834663,
          4.556944156338289,
          2.904384996060557,
          4.88271280800738,
          1.7848331554377612,
          3.0335714265445466,
          5.516953525955765,
          1.9007563662736988,
          3.0893992189378823,
          5.422517960419977,
          2.333540879537038,
          2.2537555214995724,
          4.609212188276725,
          2.1162270677360544,
          6.24078198186799,
          5.621318286580918,
          5.596834631538803,
          6.592434855300321,
          4.982028829189559,
          2.6005717732031752,
          6.2901956644931385,
          2.703766328812447,
          4.463572614416909,
          6.3896925560251585,
          3.967660260218071,
          6.076653741799269,
          6.598749491366674,
          3.0854621812664296,
          6.7191886990708785,
          5.0371566302494,
          4.672346700226735,
          4.274171691552524,
          6.542154583501589,
          4.112867155475508,
          4.461671332530546,
          4.431094213211562,
          4.179255789133721,
          7.122892413713546,
          4.695049387628557,
          5.9569199308919,
          4.6891495744976055,
          6.107049928193402,
          3.242234563787298,
          6.060702889080702,
          7.577483228807078,
          5.385882939964938,
          7.597649937658229,
          4.892964428675953,
          6.534428384434627,
          5.2614155518731165,
          4.790089804799464,
          5.403132105687316,
          5.70070441876963,
          6.062286946423767,
          4.538069711988008,
          5.64528504292221,
          6.385000596620003,
          7.707029083726503,
          6.821430290241737,
          8.845970441625994,
          5.906232417393257,
          8.886932549185708,
          8.813336617065877,
          7.5421452881037965,
          5.930814030093106,
          4.534975800555957,
          8.698144327133138,
          8.395258953226548,
          4.8221294228090485,
          8.69760911280937,
          7.551164055760435,
          6.688395412549659,
          8.181634018243475,
          8.297803500504717,
          6.562639759357341,
          9.425462443375453,
          5.74919807632448,
          8.104976021083184,
          5.377893067087806,
          6.49153697195775,
          8.891980480957454,
          5.642178234747761,
          5.837195757256451,
          5.812142780055196,
          8.541805048516304,
          7.151770007281172,
          5.535568174804073,
          6.902950998912419,
          9.070893391407516,
          7.828579150108784,
          7.329994943727657,
          6.870615215350422,
          8.557015723737953,
          9.802625096319638,
          5.840742884427343,
          9.889529015955505,
          10.074894350523147,
          8.360760866822577,
          10.44556610220015,
          8.451746395577771,
          6.618560480140461,
          9.700950816538597,
          6.6257303344727365,
          10.885899627080665,
          8.915353328292767,
          6.294154716131022,
          6.71847625741989,
          8.513425613193458,
          7.5833314063432375,
          8.19413635787766,
          6.544789703659786,
          11.213735251667503,
          7.016146298894115,
          6.826843955156654,
          11.087365781436613,
          8.263092807289622,
          7.757123998028675,
          8.499595695312717,
          11.579925114805043,
          10.299268447852,
          10.506729371537189,
          9.700564949263581,
          11.647767784912904,
          7.728118205626342,
          8.30044347601814,
          10.957519634583829,
          11.225454018313922,
          10.831586692617389,
          10.729590101653617,
          7.68726258581119,
          8.522103128061323,
          7.552107288657464,
          9.47736107587848,
          9.46166349043359,
          9.048095476895579,
          8.178796551766299,
          12.429468743109116,
          9.925106436277375,
          8.971987190096455,
          9.593573110983787,
          11.039352922230648,
          12.765400273227282,
          12.761285640330255,
          9.220781093480445,
          9.769668911264382,
          8.572960007751448,
          10.527831897298407,
          9.12578183767059,
          10.735527245154122,
          9.062154247593318,
          9.683526397021181,
          13.155105537143502,
          11.370728147358331,
          10.65351695175612,
          11.512969090486395,
          12.87691507680988,
          8.956693975201544,
          8.909248212038829,
          10.207522856942058,
          10.893967109756472,
          13.847892206173524,
          10.97448785749998,
          9.916443922930402,
          13.480078655464363,
          13.98526326660023,
          9.677501191408348,
          12.42342014484092,
          11.332349472359024,
          12.349099119007718,
          13.181190226261911,
          14.398748749978068,
          13.88416790498998,
          12.471581663231056,
          12.72655202242776,
          9.707573037227617,
          10.373878130520712,
          9.781610379359709,
          14.090328267814549,
          13.555755756529297,
          12.530752520280133,
          14.128867365272699,
          10.612244150668673,
          12.796157624863909,
          10.33797151315076,
          11.575304778695351,
          14.518496567984748,
          10.527557223933837,
          13.925703458171025,
          13.46478202250536,
          10.857040290740482,
          11.39613393843839,
          11.67872596257979,
          12.033039326753197,
          15.450482143954002,
          10.77690056342105
         ],
         "yaxis": "y"
        }
       ],
       "layout": {
        "annotations": [
         {
          "showarrow": false,
          "text": "Independence Day 2020",
          "x": "2020-07-04T00:00:00",
          "y": 15.450482143954002,
          "yshift": 10
         },
         {
          "showarrow": false,
          "text": "Christmas 2020",
          "x": "2020-12-25T00:00:00",
          "y": 15.450482143954002,
          "yshift": 10
         },
         {
          "showarrow": false,
          "text": "New Year 2021",
          "x": "2021-01-01T00:00:00",
          "y": 15.450482143954002,
          "yshift": 10
         },
         {
          "showarrow": false,
          "text": "Independence Day 2021",
          "x": "2021-07-04T00:00:00",
          "y": 15.450482143954002,
          "yshift": 10
         },
         {
          "showarrow": false,
          "text": "Christmas 2021",
          "x": "2021-12-25T00:00:00",
          "y": 15.450482143954002,
          "yshift": 10
         },
         {
          "showarrow": false,
          "text": "New Year 2022",
          "x": "2022-01-01T00:00:00",
          "y": 15.450482143954002,
          "yshift": 10
         },
         {
          "showarrow": false,
          "text": "Independence Day 2022",
          "x": "2022-07-04T00:00:00",
          "y": 15.450482143954002,
          "yshift": 10
         },
         {
          "showarrow": false,
          "text": "Christmas 2022",
          "x": "2022-12-25T00:00:00",
          "y": 15.450482143954002,
          "yshift": 10
         },
         {
          "showarrow": false,
          "text": "New Year 2023",
          "x": "2023-01-01T00:00:00",
          "y": 15.450482143954002,
          "yshift": 10
         },
         {
          "showarrow": false,
          "text": "Independence Day 2023",
          "x": "2023-07-04T00:00:00",
          "y": 15.450482143954002,
          "yshift": 10
         },
         {
          "showarrow": false,
          "text": "Christmas 2023",
          "x": "2023-12-25T00:00:00",
          "y": 15.450482143954002,
          "yshift": 10
         },
         {
          "showarrow": false,
          "text": "New Year 2024",
          "x": "2024-01-01T00:00:00",
          "y": 15.450482143954002,
          "yshift": 10
         },
         {
          "showarrow": false,
          "text": "Independence Day 2024",
          "x": "2024-07-04T00:00:00",
          "y": 15.450482143954002,
          "yshift": 10
         }
        ],
        "legend": {
         "tracegroupgap": 0
        },
        "shapes": [
         {
          "line": {
           "color": "red",
           "dash": "dash",
           "width": 2
          },
          "type": "line",
          "x0": "2020-07-04T00:00:00",
          "x1": "2020-07-04T00:00:00",
          "xref": "x",
          "y0": 0,
          "y1": 1,
          "yref": "y domain"
         },
         {
          "line": {
           "color": "red",
           "dash": "dash",
           "width": 2
          },
          "type": "line",
          "x0": "2020-12-25T00:00:00",
          "x1": "2020-12-25T00:00:00",
          "xref": "x",
          "y0": 0,
          "y1": 1,
          "yref": "y domain"
         },
         {
          "line": {
           "color": "red",
           "dash": "dash",
           "width": 2
          },
          "type": "line",
          "x0": "2021-01-01T00:00:00",
          "x1": "2021-01-01T00:00:00",
          "xref": "x",
          "y0": 0,
          "y1": 1,
          "yref": "y domain"
         },
         {
          "line": {
           "color": "red",
           "dash": "dash",
           "width": 2
          },
          "type": "line",
          "x0": "2021-07-04T00:00:00",
          "x1": "2021-07-04T00:00:00",
          "xref": "x",
          "y0": 0,
          "y1": 1,
          "yref": "y domain"
         },
         {
          "line": {
           "color": "red",
           "dash": "dash",
           "width": 2
          },
          "type": "line",
          "x0": "2021-12-25T00:00:00",
          "x1": "2021-12-25T00:00:00",
          "xref": "x",
          "y0": 0,
          "y1": 1,
          "yref": "y domain"
         },
         {
          "line": {
           "color": "red",
           "dash": "dash",
           "width": 2
          },
          "type": "line",
          "x0": "2022-01-01T00:00:00",
          "x1": "2022-01-01T00:00:00",
          "xref": "x",
          "y0": 0,
          "y1": 1,
          "yref": "y domain"
         },
         {
          "line": {
           "color": "red",
           "dash": "dash",
           "width": 2
          },
          "type": "line",
          "x0": "2022-07-04T00:00:00",
          "x1": "2022-07-04T00:00:00",
          "xref": "x",
          "y0": 0,
          "y1": 1,
          "yref": "y domain"
         },
         {
          "line": {
           "color": "red",
           "dash": "dash",
           "width": 2
          },
          "type": "line",
          "x0": "2022-12-25T00:00:00",
          "x1": "2022-12-25T00:00:00",
          "xref": "x",
          "y0": 0,
          "y1": 1,
          "yref": "y domain"
         },
         {
          "line": {
           "color": "red",
           "dash": "dash",
           "width": 2
          },
          "type": "line",
          "x0": "2023-01-01T00:00:00",
          "x1": "2023-01-01T00:00:00",
          "xref": "x",
          "y0": 0,
          "y1": 1,
          "yref": "y domain"
         },
         {
          "line": {
           "color": "red",
           "dash": "dash",
           "width": 2
          },
          "type": "line",
          "x0": "2023-07-04T00:00:00",
          "x1": "2023-07-04T00:00:00",
          "xref": "x",
          "y0": 0,
          "y1": 1,
          "yref": "y domain"
         },
         {
          "line": {
           "color": "red",
           "dash": "dash",
           "width": 2
          },
          "type": "line",
          "x0": "2023-12-25T00:00:00",
          "x1": "2023-12-25T00:00:00",
          "xref": "x",
          "y0": 0,
          "y1": 1,
          "yref": "y domain"
         },
         {
          "line": {
           "color": "red",
           "dash": "dash",
           "width": 2
          },
          "type": "line",
          "x0": "2024-01-01T00:00:00",
          "x1": "2024-01-01T00:00:00",
          "xref": "x",
          "y0": 0,
          "y1": 1,
          "yref": "y domain"
         },
         {
          "line": {
           "color": "red",
           "dash": "dash",
           "width": 2
          },
          "type": "line",
          "x0": "2024-07-04T00:00:00",
          "x1": "2024-07-04T00:00:00",
          "xref": "x",
          "y0": 0,
          "y1": 1,
          "yref": "y domain"
         }
        ],
        "template": {
         "data": {
          "bar": [
           {
            "error_x": {
             "color": "#2a3f5f"
            },
            "error_y": {
             "color": "#2a3f5f"
            },
            "marker": {
             "line": {
              "color": "#E5ECF6",
              "width": 0.5
             },
             "pattern": {
              "fillmode": "overlay",
              "size": 10,
              "solidity": 0.2
             }
            },
            "type": "bar"
           }
          ],
          "barpolar": [
           {
            "marker": {
             "line": {
              "color": "#E5ECF6",
              "width": 0.5
             },
             "pattern": {
              "fillmode": "overlay",
              "size": 10,
              "solidity": 0.2
             }
            },
            "type": "barpolar"
           }
          ],
          "carpet": [
           {
            "aaxis": {
             "endlinecolor": "#2a3f5f",
             "gridcolor": "white",
             "linecolor": "white",
             "minorgridcolor": "white",
             "startlinecolor": "#2a3f5f"
            },
            "baxis": {
             "endlinecolor": "#2a3f5f",
             "gridcolor": "white",
             "linecolor": "white",
             "minorgridcolor": "white",
             "startlinecolor": "#2a3f5f"
            },
            "type": "carpet"
           }
          ],
          "choropleth": [
           {
            "colorbar": {
             "outlinewidth": 0,
             "ticks": ""
            },
            "type": "choropleth"
           }
          ],
          "contour": [
           {
            "colorbar": {
             "outlinewidth": 0,
             "ticks": ""
            },
            "colorscale": [
             [
              0,
              "#0d0887"
             ],
             [
              0.1111111111111111,
              "#46039f"
             ],
             [
              0.2222222222222222,
              "#7201a8"
             ],
             [
              0.3333333333333333,
              "#9c179e"
             ],
             [
              0.4444444444444444,
              "#bd3786"
             ],
             [
              0.5555555555555556,
              "#d8576b"
             ],
             [
              0.6666666666666666,
              "#ed7953"
             ],
             [
              0.7777777777777778,
              "#fb9f3a"
             ],
             [
              0.8888888888888888,
              "#fdca26"
             ],
             [
              1,
              "#f0f921"
             ]
            ],
            "type": "contour"
           }
          ],
          "contourcarpet": [
           {
            "colorbar": {
             "outlinewidth": 0,
             "ticks": ""
            },
            "type": "contourcarpet"
           }
          ],
          "heatmap": [
           {
            "colorbar": {
             "outlinewidth": 0,
             "ticks": ""
            },
            "colorscale": [
             [
              0,
              "#0d0887"
             ],
             [
              0.1111111111111111,
              "#46039f"
             ],
             [
              0.2222222222222222,
              "#7201a8"
             ],
             [
              0.3333333333333333,
              "#9c179e"
             ],
             [
              0.4444444444444444,
              "#bd3786"
             ],
             [
              0.5555555555555556,
              "#d8576b"
             ],
             [
              0.6666666666666666,
              "#ed7953"
             ],
             [
              0.7777777777777778,
              "#fb9f3a"
             ],
             [
              0.8888888888888888,
              "#fdca26"
             ],
             [
              1,
              "#f0f921"
             ]
            ],
            "type": "heatmap"
           }
          ],
          "heatmapgl": [
           {
            "colorbar": {
             "outlinewidth": 0,
             "ticks": ""
            },
            "colorscale": [
             [
              0,
              "#0d0887"
             ],
             [
              0.1111111111111111,
              "#46039f"
             ],
             [
              0.2222222222222222,
              "#7201a8"
             ],
             [
              0.3333333333333333,
              "#9c179e"
             ],
             [
              0.4444444444444444,
              "#bd3786"
             ],
             [
              0.5555555555555556,
              "#d8576b"
             ],
             [
              0.6666666666666666,
              "#ed7953"
             ],
             [
              0.7777777777777778,
              "#fb9f3a"
             ],
             [
              0.8888888888888888,
              "#fdca26"
             ],
             [
              1,
              "#f0f921"
             ]
            ],
            "type": "heatmapgl"
           }
          ],
          "histogram": [
           {
            "marker": {
             "pattern": {
              "fillmode": "overlay",
              "size": 10,
              "solidity": 0.2
             }
            },
            "type": "histogram"
           }
          ],
          "histogram2d": [
           {
            "colorbar": {
             "outlinewidth": 0,
             "ticks": ""
            },
            "colorscale": [
             [
              0,
              "#0d0887"
             ],
             [
              0.1111111111111111,
              "#46039f"
             ],
             [
              0.2222222222222222,
              "#7201a8"
             ],
             [
              0.3333333333333333,
              "#9c179e"
             ],
             [
              0.4444444444444444,
              "#bd3786"
             ],
             [
              0.5555555555555556,
              "#d8576b"
             ],
             [
              0.6666666666666666,
              "#ed7953"
             ],
             [
              0.7777777777777778,
              "#fb9f3a"
             ],
             [
              0.8888888888888888,
              "#fdca26"
             ],
             [
              1,
              "#f0f921"
             ]
            ],
            "type": "histogram2d"
           }
          ],
          "histogram2dcontour": [
           {
            "colorbar": {
             "outlinewidth": 0,
             "ticks": ""
            },
            "colorscale": [
             [
              0,
              "#0d0887"
             ],
             [
              0.1111111111111111,
              "#46039f"
             ],
             [
              0.2222222222222222,
              "#7201a8"
             ],
             [
              0.3333333333333333,
              "#9c179e"
             ],
             [
              0.4444444444444444,
              "#bd3786"
             ],
             [
              0.5555555555555556,
              "#d8576b"
             ],
             [
              0.6666666666666666,
              "#ed7953"
             ],
             [
              0.7777777777777778,
              "#fb9f3a"
             ],
             [
              0.8888888888888888,
              "#fdca26"
             ],
             [
              1,
              "#f0f921"
             ]
            ],
            "type": "histogram2dcontour"
           }
          ],
          "mesh3d": [
           {
            "colorbar": {
             "outlinewidth": 0,
             "ticks": ""
            },
            "type": "mesh3d"
           }
          ],
          "parcoords": [
           {
            "line": {
             "colorbar": {
              "outlinewidth": 0,
              "ticks": ""
             }
            },
            "type": "parcoords"
           }
          ],
          "pie": [
           {
            "automargin": true,
            "type": "pie"
           }
          ],
          "scatter": [
           {
            "fillpattern": {
             "fillmode": "overlay",
             "size": 10,
             "solidity": 0.2
            },
            "type": "scatter"
           }
          ],
          "scatter3d": [
           {
            "line": {
             "colorbar": {
              "outlinewidth": 0,
              "ticks": ""
             }
            },
            "marker": {
             "colorbar": {
              "outlinewidth": 0,
              "ticks": ""
             }
            },
            "type": "scatter3d"
           }
          ],
          "scattercarpet": [
           {
            "marker": {
             "colorbar": {
              "outlinewidth": 0,
              "ticks": ""
             }
            },
            "type": "scattercarpet"
           }
          ],
          "scattergeo": [
           {
            "marker": {
             "colorbar": {
              "outlinewidth": 0,
              "ticks": ""
             }
            },
            "type": "scattergeo"
           }
          ],
          "scattergl": [
           {
            "marker": {
             "colorbar": {
              "outlinewidth": 0,
              "ticks": ""
             }
            },
            "type": "scattergl"
           }
          ],
          "scattermapbox": [
           {
            "marker": {
             "colorbar": {
              "outlinewidth": 0,
              "ticks": ""
             }
            },
            "type": "scattermapbox"
           }
          ],
          "scatterpolar": [
           {
            "marker": {
             "colorbar": {
              "outlinewidth": 0,
              "ticks": ""
             }
            },
            "type": "scatterpolar"
           }
          ],
          "scatterpolargl": [
           {
            "marker": {
             "colorbar": {
              "outlinewidth": 0,
              "ticks": ""
             }
            },
            "type": "scatterpolargl"
           }
          ],
          "scatterternary": [
           {
            "marker": {
             "colorbar": {
              "outlinewidth": 0,
              "ticks": ""
             }
            },
            "type": "scatterternary"
           }
          ],
          "surface": [
           {
            "colorbar": {
             "outlinewidth": 0,
             "ticks": ""
            },
            "colorscale": [
             [
              0,
              "#0d0887"
             ],
             [
              0.1111111111111111,
              "#46039f"
             ],
             [
              0.2222222222222222,
              "#7201a8"
             ],
             [
              0.3333333333333333,
              "#9c179e"
             ],
             [
              0.4444444444444444,
              "#bd3786"
             ],
             [
              0.5555555555555556,
              "#d8576b"
             ],
             [
              0.6666666666666666,
              "#ed7953"
             ],
             [
              0.7777777777777778,
              "#fb9f3a"
             ],
             [
              0.8888888888888888,
              "#fdca26"
             ],
             [
              1,
              "#f0f921"
             ]
            ],
            "type": "surface"
           }
          ],
          "table": [
           {
            "cells": {
             "fill": {
              "color": "#EBF0F8"
             },
             "line": {
              "color": "white"
             }
            },
            "header": {
             "fill": {
              "color": "#C8D4E3"
             },
             "line": {
              "color": "white"
             }
            },
            "type": "table"
           }
          ]
         },
         "layout": {
          "annotationdefaults": {
           "arrowcolor": "#2a3f5f",
           "arrowhead": 0,
           "arrowwidth": 1
          },
          "autotypenumbers": "strict",
          "coloraxis": {
           "colorbar": {
            "outlinewidth": 0,
            "ticks": ""
           }
          },
          "colorscale": {
           "diverging": [
            [
             0,
             "#8e0152"
            ],
            [
             0.1,
             "#c51b7d"
            ],
            [
             0.2,
             "#de77ae"
            ],
            [
             0.3,
             "#f1b6da"
            ],
            [
             0.4,
             "#fde0ef"
            ],
            [
             0.5,
             "#f7f7f7"
            ],
            [
             0.6,
             "#e6f5d0"
            ],
            [
             0.7,
             "#b8e186"
            ],
            [
             0.8,
             "#7fbc41"
            ],
            [
             0.9,
             "#4d9221"
            ],
            [
             1,
             "#276419"
            ]
           ],
           "sequential": [
            [
             0,
             "#0d0887"
            ],
            [
             0.1111111111111111,
             "#46039f"
            ],
            [
             0.2222222222222222,
             "#7201a8"
            ],
            [
             0.3333333333333333,
             "#9c179e"
            ],
            [
             0.4444444444444444,
             "#bd3786"
            ],
            [
             0.5555555555555556,
             "#d8576b"
            ],
            [
             0.6666666666666666,
             "#ed7953"
            ],
            [
             0.7777777777777778,
             "#fb9f3a"
            ],
            [
             0.8888888888888888,
             "#fdca26"
            ],
            [
             1,
             "#f0f921"
            ]
           ],
           "sequentialminus": [
            [
             0,
             "#0d0887"
            ],
            [
             0.1111111111111111,
             "#46039f"
            ],
            [
             0.2222222222222222,
             "#7201a8"
            ],
            [
             0.3333333333333333,
             "#9c179e"
            ],
            [
             0.4444444444444444,
             "#bd3786"
            ],
            [
             0.5555555555555556,
             "#d8576b"
            ],
            [
             0.6666666666666666,
             "#ed7953"
            ],
            [
             0.7777777777777778,
             "#fb9f3a"
            ],
            [
             0.8888888888888888,
             "#fdca26"
            ],
            [
             1,
             "#f0f921"
            ]
           ]
          },
          "colorway": [
           "#636efa",
           "#EF553B",
           "#00cc96",
           "#ab63fa",
           "#FFA15A",
           "#19d3f3",
           "#FF6692",
           "#B6E880",
           "#FF97FF",
           "#FECB52"
          ],
          "font": {
           "color": "#2a3f5f"
          },
          "geo": {
           "bgcolor": "white",
           "lakecolor": "white",
           "landcolor": "#E5ECF6",
           "showlakes": true,
           "showland": true,
           "subunitcolor": "white"
          },
          "hoverlabel": {
           "align": "left"
          },
          "hovermode": "closest",
          "mapbox": {
           "style": "light"
          },
          "paper_bgcolor": "white",
          "plot_bgcolor": "#E5ECF6",
          "polar": {
           "angularaxis": {
            "gridcolor": "white",
            "linecolor": "white",
            "ticks": ""
           },
           "bgcolor": "#E5ECF6",
           "radialaxis": {
            "gridcolor": "white",
            "linecolor": "white",
            "ticks": ""
           }
          },
          "scene": {
           "xaxis": {
            "backgroundcolor": "#E5ECF6",
            "gridcolor": "white",
            "gridwidth": 2,
            "linecolor": "white",
            "showbackground": true,
            "ticks": "",
            "zerolinecolor": "white"
           },
           "yaxis": {
            "backgroundcolor": "#E5ECF6",
            "gridcolor": "white",
            "gridwidth": 2,
            "linecolor": "white",
            "showbackground": true,
            "ticks": "",
            "zerolinecolor": "white"
           },
           "zaxis": {
            "backgroundcolor": "#E5ECF6",
            "gridcolor": "white",
            "gridwidth": 2,
            "linecolor": "white",
            "showbackground": true,
            "ticks": "",
            "zerolinecolor": "white"
           }
          },
          "shapedefaults": {
           "line": {
            "color": "#2a3f5f"
           }
          },
          "ternary": {
           "aaxis": {
            "gridcolor": "white",
            "linecolor": "white",
            "ticks": ""
           },
           "baxis": {
            "gridcolor": "white",
            "linecolor": "white",
            "ticks": ""
           },
           "bgcolor": "#E5ECF6",
           "caxis": {
            "gridcolor": "white",
            "linecolor": "white",
            "ticks": ""
           }
          },
          "title": {
           "x": 0.05
          },
          "xaxis": {
           "automargin": true,
           "gridcolor": "white",
           "linecolor": "white",
           "ticks": "",
           "title": {
            "standoff": 15
           },
           "zerolinecolor": "white",
           "zerolinewidth": 2
          },
          "yaxis": {
           "automargin": true,
           "gridcolor": "white",
           "linecolor": "white",
           "ticks": "",
           "title": {
            "standoff": 15
           },
           "zerolinecolor": "white",
           "zerolinewidth": 2
          }
         }
        },
        "title": {
         "text": "COVID-19 Positivity Rate and Major Public Events"
        },
        "xaxis": {
         "anchor": "y",
         "domain": [
          0,
          1
         ],
         "title": {
          "text": "Date"
         }
        },
        "yaxis": {
         "anchor": "x",
         "domain": [
          0,
          1
         ],
         "title": {
          "text": "Positivity Rate"
         }
        }
       }
      }
     },
     "metadata": {},
     "output_type": "display_data"
    }
   ],
   "source": [
    "\n",
    "# Extending the simulation date range to 2024\n",
    "dates = pd.date_range(start=\"2020-01-01\", end=\"2024-1-31\", freq='W')\n",
    "positivity_rates = (pd.Series(range(len(dates))) / 100).apply(lambda x: x + np.random.rand()) * 5\n",
    "\n",
    "# Simulated DataFrame\n",
    "covid_data = pd.DataFrame({'Date': dates, 'Positivity Rate': positivity_rates})\n",
    "\n",
    "# Extending the list of major public events or holidays to 2024\n",
    "events = pd.to_datetime([\n",
    "    '2020-07-04', '2020-12-25', '2021-01-01', '2021-07-04',\n",
    "    '2021-12-25', '2022-01-01', '2022-07-04', '2022-12-25',\n",
    "    '2023-01-01', '2023-07-04', '2023-12-25', '2024-01-01', '2024-07-04'\n",
    "])\n",
    "event_labels = [\n",
    "    'Independence Day 2020', 'Christmas 2020', 'New Year 2021', 'Independence Day 2021',\n",
    "    'Christmas 2021', 'New Year 2022', 'Independence Day 2022', 'Christmas 2022',\n",
    "    'New Year 2023', 'Independence Day 2023', 'Christmas 2023', 'New Year 2024', 'Independence Day 2024'\n",
    "]\n",
    "\n",
    "# Plotting\n",
    "fig = px.line(covid_data, x='Date', y='Positivity Rate', title='COVID-19 Positivity Rate and Major Public Events', markers=True)\n",
    "for event, label in zip(events, event_labels):\n",
    "    fig.add_vline(x=event, line_width=2, line_dash=\"dash\", line_color=\"red\")\n",
    "    fig.add_annotation(x=event, y=max(covid_data['Positivity Rate']), text=label, showarrow=False, yshift=10)\n",
    "\n",
    "fig.show()\n"
   ]
  },
  {
   "cell_type": "markdown",
   "metadata": {},
   "source": [
    "### Inference/Interpretation:\n",
    "- From this graph I can infer that there has always been a decline in the cases of covid probably beause most people on holidays are at home and with family members and\n",
    "  are carefull not to be in public places and prefer to spend time with family and then when the holiday is over they continue with their daily lives and go on to \n",
    "  meet strangers who they do not know the heigenic conditions of and thus increases the spread of covid.\n",
    "- Throughout the graph it is evident that there has been a steady increase inthe positivity rate of covid starting form Jan of 2020 till Jan of 2024.\n",
    "  probably because as awareness increased more people got tested and also the covid test has a chance of giving a false positive."
   ]
  },
  {
   "cell_type": "markdown",
   "metadata": {},
   "source": [
    "## This graph tests the relation ship between the vaccination completion vs the Ethnicity of individuals over a period of time."
   ]
  },
  {
   "cell_type": "code",
   "execution_count": 20,
   "metadata": {},
   "outputs": [
    {
     "data": {
      "image/png": "[encoded data removed]",
      "text/plain": [
       "<Figure size 1200x800 with 1 Axes>"
      ]
     },
     "metadata": {},
     "output_type": "display_data"
    }
   ],
   "source": [
    "plt.figure(figsize=(12, 8))\n",
    "sns.lineplot(data=df_final_copy, x='week_start', y='Vaccine Series Completed Percent', hue='Race/Ethnicity')\n",
    "plt.title('Vaccination Series Completion Percent Over Time by Ethnicity')\n",
    "plt.xlabel('Week Start')\n",
    "plt.ylabel('Vaccine Series Completion Percent (%)')\n",
    "plt.legend(title='Ethnicity')\n",
    "plt.show()\n",
    "\n"
   ]
  },
  {
   "cell_type": "markdown",
   "metadata": {},
   "source": [
    "### Inference/Interpretation:\n",
    "- This graph shows how vaccination was least completed over a period of time for the Black, non-latinx group and the most was by Other, non-Latinx followed by Asian, non-Latinx"
   ]
  },
  {
   "cell_type": "markdown",
   "metadata": {},
   "source": [
    "### ***Preprocessing***"
   ]
  },
  {
   "cell_type": "code",
   "execution_count": 21,
   "metadata": {},
   "outputs": [
    {
     "data": {
      "text/plain": [
       "((7012, 30),\n",
       "    mmwr_week  week week_start   week_end     season    pathogen  \\\n",
       " 0     202051    51 2020-12-13 2020-12-19  2020-2021  SARS-CoV-2   \n",
       " 1     202051    51 2020-12-13 2020-12-19  2020-2021  SARS-CoV-2   \n",
       " 2     202051    51 2020-12-13 2020-12-19  2020-2021  SARS-CoV-2   \n",
       " 3     202051    51 2020-12-13 2020-12-19  2020-2021  SARS-CoV-2   \n",
       " 4     202051    51 2020-12-13 2020-12-19  2020-2021  SARS-CoV-2   \n",
       " \n",
       "    lab_tot_tested  lab_tot_positive lab_pct_positive  \\\n",
       " 0           11640              1551     0.1332474227   \n",
       " 1           11640              1551     0.1332474227   \n",
       " 2           11640              1551     0.1332474227   \n",
       " 3           11640              1551     0.1332474227   \n",
       " 4           11640              1551     0.1332474227   \n",
       " \n",
       "    lab_tot_tested_cumulative  ...  Boosted Boosted Percent Bivalent  \\\n",
       " 0                     129149  ...        0             0.0        0   \n",
       " 1                     129149  ...        0             0.0        0   \n",
       " 2                     129149  ...        0             0.0        0   \n",
       " 3                     129149  ...        0             0.0        0   \n",
       " 4                     129149  ...        0             0.0        0   \n",
       " \n",
       "   Bivalent Percent Race/Ethnicity_Asian, non-Latinx  \\\n",
       " 0              0.0                            False   \n",
       " 1              0.0                            False   \n",
       " 2              0.0                            False   \n",
       " 3              0.0                             True   \n",
       " 4              0.0                            False   \n",
       " \n",
       "   Race/Ethnicity_Black, non-Latinx Race/Ethnicity_Latinx  \\\n",
       " 0                            False                  True   \n",
       " 1                             True                 False   \n",
       " 2                            False                 False   \n",
       " 3                            False                 False   \n",
       " 4                            False                 False   \n",
       " \n",
       "   Race/Ethnicity_Other, non-Latinx Race/Ethnicity_Unknown  \\\n",
       " 0                            False                  False   \n",
       " 1                            False                  False   \n",
       " 2                            False                  False   \n",
       " 3                            False                  False   \n",
       " 4                             True                  False   \n",
       " \n",
       "   Race/Ethnicity_White, non-Latinx  \n",
       " 0                            False  \n",
       " 1                            False  \n",
       " 2                             True  \n",
       " 3                            False  \n",
       " 4                            False  \n",
       " \n",
       " [5 rows x 30 columns])"
      ]
     },
     "execution_count": 21,
     "metadata": {},
     "output_type": "execute_result"
    }
   ],
   "source": [
    "\n",
    "df_processed = pd.get_dummies(df_final_copy, columns=['Race/Ethnicity'], drop_first=True)\n",
    "df_processed.shape, df_processed.head()"
   ]
  },
  {
   "cell_type": "markdown",
   "metadata": {},
   "source": [
    "## This graph shows the average vaccination completion percentages across different demographic groups."
   ]
  },
  {
   "cell_type": "code",
   "execution_count": 22,
   "metadata": {},
   "outputs": [
    {
     "ename": "AttributeError",
     "evalue": "Rectangle.set() got an unexpected keyword argument 'legend'",
     "output_type": "error",
     "traceback": [
      "\u001b[1;31m---------------------------------------------------------------------------\u001b[0m",
      "\u001b[1;31mAttributeError\u001b[0m                            Traceback (most recent call last)",
      "Cell \u001b[1;32mIn[22], line 24\u001b[0m\n\u001b[0;32m     22\u001b[0m \u001b[38;5;66;03m# Visualize again\u001b[39;00m\n\u001b[0;32m     23\u001b[0m plt\u001b[38;5;241m.\u001b[39mfigure(figsize\u001b[38;5;241m=\u001b[39m(\u001b[38;5;241m12\u001b[39m, \u001b[38;5;241m7\u001b[39m))\n\u001b[1;32m---> 24\u001b[0m \u001b[43msns\u001b[49m\u001b[38;5;241;43m.\u001b[39;49m\u001b[43mbarplot\u001b[49m\u001b[43m(\u001b[49m\u001b[43mdata\u001b[49m\u001b[38;5;241;43m=\u001b[39;49m\u001b[43mavg_vaccination_melted_filtered\u001b[49m\u001b[43m,\u001b[49m\u001b[43m \u001b[49m\u001b[43mx\u001b[49m\u001b[38;5;241;43m=\u001b[39;49m\u001b[38;5;124;43m'\u001b[39;49m\u001b[38;5;124;43mDemographic Group\u001b[39;49m\u001b[38;5;124;43m'\u001b[39;49m\u001b[43m,\u001b[49m\u001b[43m \u001b[49m\u001b[43my\u001b[49m\u001b[38;5;241;43m=\u001b[39;49m\u001b[38;5;124;43m'\u001b[39;49m\u001b[38;5;124;43mVaccine Series Completed Percent\u001b[39;49m\u001b[38;5;124;43m'\u001b[39;49m\u001b[43m,\u001b[49m\u001b[43m \u001b[49m\u001b[43merrorbar\u001b[49m\u001b[38;5;241;43m=\u001b[39;49m\u001b[38;5;28;43;01mNone\u001b[39;49;00m\u001b[43m,\u001b[49m\u001b[43m \u001b[49m\u001b[43mpalette\u001b[49m\u001b[38;5;241;43m=\u001b[39;49m\u001b[43mbar_colors\u001b[49m\u001b[43m,\u001b[49m\u001b[43m \u001b[49m\u001b[43mhue\u001b[49m\u001b[38;5;241;43m=\u001b[39;49m\u001b[38;5;124;43m'\u001b[39;49m\u001b[38;5;124;43mDemographic Group\u001b[39;49m\u001b[38;5;124;43m'\u001b[39;49m\u001b[43m,\u001b[49m\u001b[43m \u001b[49m\u001b[43mlegend\u001b[49m\u001b[38;5;241;43m=\u001b[39;49m\u001b[38;5;28;43;01mFalse\u001b[39;49;00m\u001b[43m)\u001b[49m\n\u001b[0;32m     25\u001b[0m plt\u001b[38;5;241m.\u001b[39mtitle(\u001b[38;5;124m'\u001b[39m\u001b[38;5;124mVaccination Completion Percent by Demographic Group for the Latest Week\u001b[39m\u001b[38;5;124m'\u001b[39m)\n\u001b[0;32m     26\u001b[0m plt\u001b[38;5;241m.\u001b[39mxlabel(\u001b[38;5;124m'\u001b[39m\u001b[38;5;124mDemographic Group\u001b[39m\u001b[38;5;124m'\u001b[39m)\n",
      "File \u001b[1;32mc:\\Users\\Daniyal\\anaconda3\\envs\\cs418env\\Lib\\site-packages\\seaborn\\categorical.py:2763\u001b[0m, in \u001b[0;36mbarplot\u001b[1;34m(data, x, y, hue, order, hue_order, estimator, errorbar, n_boot, units, seed, orient, color, palette, saturation, width, errcolor, errwidth, capsize, dodge, ci, ax, **kwargs)\u001b[0m\n\u001b[0;32m   2760\u001b[0m \u001b[38;5;28;01mif\u001b[39;00m ax \u001b[38;5;129;01mis\u001b[39;00m \u001b[38;5;28;01mNone\u001b[39;00m:\n\u001b[0;32m   2761\u001b[0m     ax \u001b[38;5;241m=\u001b[39m plt\u001b[38;5;241m.\u001b[39mgca()\n\u001b[1;32m-> 2763\u001b[0m \u001b[43mplotter\u001b[49m\u001b[38;5;241;43m.\u001b[39;49m\u001b[43mplot\u001b[49m\u001b[43m(\u001b[49m\u001b[43max\u001b[49m\u001b[43m,\u001b[49m\u001b[43m \u001b[49m\u001b[43mkwargs\u001b[49m\u001b[43m)\u001b[49m\n\u001b[0;32m   2764\u001b[0m \u001b[38;5;28;01mreturn\u001b[39;00m ax\n",
      "File \u001b[1;32mc:\\Users\\Daniyal\\anaconda3\\envs\\cs418env\\Lib\\site-packages\\seaborn\\categorical.py:1586\u001b[0m, in \u001b[0;36m_BarPlotter.plot\u001b[1;34m(self, ax, bar_kws)\u001b[0m\n\u001b[0;32m   1584\u001b[0m \u001b[38;5;28;01mdef\u001b[39;00m \u001b[38;5;21mplot\u001b[39m(\u001b[38;5;28mself\u001b[39m, ax, bar_kws):\n\u001b[0;32m   1585\u001b[0m \u001b[38;5;250m    \u001b[39m\u001b[38;5;124;03m\"\"\"Make the plot.\"\"\"\u001b[39;00m\n\u001b[1;32m-> 1586\u001b[0m     \u001b[38;5;28;43mself\u001b[39;49m\u001b[38;5;241;43m.\u001b[39;49m\u001b[43mdraw_bars\u001b[49m\u001b[43m(\u001b[49m\u001b[43max\u001b[49m\u001b[43m,\u001b[49m\u001b[43m \u001b[49m\u001b[43mbar_kws\u001b[49m\u001b[43m)\u001b[49m\n\u001b[0;32m   1587\u001b[0m     \u001b[38;5;28mself\u001b[39m\u001b[38;5;241m.\u001b[39mannotate_axes(ax)\n\u001b[0;32m   1588\u001b[0m     \u001b[38;5;28;01mif\u001b[39;00m \u001b[38;5;28mself\u001b[39m\u001b[38;5;241m.\u001b[39morient \u001b[38;5;241m==\u001b[39m \u001b[38;5;124m\"\u001b[39m\u001b[38;5;124mh\u001b[39m\u001b[38;5;124m\"\u001b[39m:\n",
      "File \u001b[1;32mc:\\Users\\Daniyal\\anaconda3\\envs\\cs418env\\Lib\\site-packages\\seaborn\\categorical.py:1569\u001b[0m, in \u001b[0;36m_BarPlotter.draw_bars\u001b[1;34m(self, ax, kws)\u001b[0m\n\u001b[0;32m   1565\u001b[0m \u001b[38;5;28;01mfor\u001b[39;00m j, hue_level \u001b[38;5;129;01min\u001b[39;00m \u001b[38;5;28menumerate\u001b[39m(\u001b[38;5;28mself\u001b[39m\u001b[38;5;241m.\u001b[39mhue_names):\n\u001b[0;32m   1566\u001b[0m \n\u001b[0;32m   1567\u001b[0m     \u001b[38;5;66;03m# Draw the bars\u001b[39;00m\n\u001b[0;32m   1568\u001b[0m     offpos \u001b[38;5;241m=\u001b[39m barpos \u001b[38;5;241m+\u001b[39m \u001b[38;5;28mself\u001b[39m\u001b[38;5;241m.\u001b[39mhue_offsets[j]\n\u001b[1;32m-> 1569\u001b[0m     \u001b[43mbarfunc\u001b[49m\u001b[43m(\u001b[49m\u001b[43moffpos\u001b[49m\u001b[43m,\u001b[49m\u001b[43m \u001b[49m\u001b[38;5;28;43mself\u001b[39;49m\u001b[38;5;241;43m.\u001b[39;49m\u001b[43mstatistic\u001b[49m\u001b[43m[\u001b[49m\u001b[43m:\u001b[49m\u001b[43m,\u001b[49m\u001b[43m \u001b[49m\u001b[43mj\u001b[49m\u001b[43m]\u001b[49m\u001b[43m,\u001b[49m\u001b[43m \u001b[49m\u001b[38;5;28;43mself\u001b[39;49m\u001b[38;5;241;43m.\u001b[39;49m\u001b[43mnested_width\u001b[49m\u001b[43m,\u001b[49m\n\u001b[0;32m   1570\u001b[0m \u001b[43m            \u001b[49m\u001b[43mcolor\u001b[49m\u001b[38;5;241;43m=\u001b[39;49m\u001b[38;5;28;43mself\u001b[39;49m\u001b[38;5;241;43m.\u001b[39;49m\u001b[43mcolors\u001b[49m\u001b[43m[\u001b[49m\u001b[43mj\u001b[49m\u001b[43m]\u001b[49m\u001b[43m,\u001b[49m\u001b[43m \u001b[49m\u001b[43malign\u001b[49m\u001b[38;5;241;43m=\u001b[39;49m\u001b[38;5;124;43m\"\u001b[39;49m\u001b[38;5;124;43mcenter\u001b[39;49m\u001b[38;5;124;43m\"\u001b[39;49m\u001b[43m,\u001b[49m\n\u001b[0;32m   1571\u001b[0m \u001b[43m            \u001b[49m\u001b[43mlabel\u001b[49m\u001b[38;5;241;43m=\u001b[39;49m\u001b[43mhue_level\u001b[49m\u001b[43m,\u001b[49m\u001b[43m \u001b[49m\u001b[38;5;241;43m*\u001b[39;49m\u001b[38;5;241;43m*\u001b[39;49m\u001b[43mkws\u001b[49m\u001b[43m)\u001b[49m\n\u001b[0;32m   1573\u001b[0m     \u001b[38;5;66;03m# Draw the confidence intervals\u001b[39;00m\n\u001b[0;32m   1574\u001b[0m     \u001b[38;5;28;01mif\u001b[39;00m \u001b[38;5;28mself\u001b[39m\u001b[38;5;241m.\u001b[39mconfint\u001b[38;5;241m.\u001b[39msize:\n",
      "File \u001b[1;32mc:\\Users\\Daniyal\\anaconda3\\envs\\cs418env\\Lib\\site-packages\\matplotlib\\__init__.py:1446\u001b[0m, in \u001b[0;36m_preprocess_data.<locals>.inner\u001b[1;34m(ax, data, *args, **kwargs)\u001b[0m\n\u001b[0;32m   1443\u001b[0m \u001b[38;5;129m@functools\u001b[39m\u001b[38;5;241m.\u001b[39mwraps(func)\n\u001b[0;32m   1444\u001b[0m \u001b[38;5;28;01mdef\u001b[39;00m \u001b[38;5;21minner\u001b[39m(ax, \u001b[38;5;241m*\u001b[39margs, data\u001b[38;5;241m=\u001b[39m\u001b[38;5;28;01mNone\u001b[39;00m, \u001b[38;5;241m*\u001b[39m\u001b[38;5;241m*\u001b[39mkwargs):\n\u001b[0;32m   1445\u001b[0m     \u001b[38;5;28;01mif\u001b[39;00m data \u001b[38;5;129;01mis\u001b[39;00m \u001b[38;5;28;01mNone\u001b[39;00m:\n\u001b[1;32m-> 1446\u001b[0m         \u001b[38;5;28;01mreturn\u001b[39;00m \u001b[43mfunc\u001b[49m\u001b[43m(\u001b[49m\u001b[43max\u001b[49m\u001b[43m,\u001b[49m\u001b[43m \u001b[49m\u001b[38;5;241;43m*\u001b[39;49m\u001b[38;5;28;43mmap\u001b[39;49m\u001b[43m(\u001b[49m\u001b[43msanitize_sequence\u001b[49m\u001b[43m,\u001b[49m\u001b[43m \u001b[49m\u001b[43margs\u001b[49m\u001b[43m)\u001b[49m\u001b[43m,\u001b[49m\u001b[43m \u001b[49m\u001b[38;5;241;43m*\u001b[39;49m\u001b[38;5;241;43m*\u001b[39;49m\u001b[43mkwargs\u001b[49m\u001b[43m)\u001b[49m\n\u001b[0;32m   1448\u001b[0m     bound \u001b[38;5;241m=\u001b[39m new_sig\u001b[38;5;241m.\u001b[39mbind(ax, \u001b[38;5;241m*\u001b[39margs, \u001b[38;5;241m*\u001b[39m\u001b[38;5;241m*\u001b[39mkwargs)\n\u001b[0;32m   1449\u001b[0m     auto_label \u001b[38;5;241m=\u001b[39m (bound\u001b[38;5;241m.\u001b[39marguments\u001b[38;5;241m.\u001b[39mget(label_namer)\n\u001b[0;32m   1450\u001b[0m                   \u001b[38;5;129;01mor\u001b[39;00m bound\u001b[38;5;241m.\u001b[39mkwargs\u001b[38;5;241m.\u001b[39mget(label_namer))\n",
      "File \u001b[1;32mc:\\Users\\Daniyal\\anaconda3\\envs\\cs418env\\Lib\\site-packages\\matplotlib\\axes\\_axes.py:2480\u001b[0m, in \u001b[0;36mAxes.bar\u001b[1;34m(self, x, height, width, bottom, align, **kwargs)\u001b[0m\n\u001b[0;32m   2471\u001b[0m \u001b[38;5;28;01mfor\u001b[39;00m l, b, w, h, c, e, lw, htch, lbl \u001b[38;5;129;01min\u001b[39;00m args:\n\u001b[0;32m   2472\u001b[0m     r \u001b[38;5;241m=\u001b[39m mpatches\u001b[38;5;241m.\u001b[39mRectangle(\n\u001b[0;32m   2473\u001b[0m         xy\u001b[38;5;241m=\u001b[39m(l, b), width\u001b[38;5;241m=\u001b[39mw, height\u001b[38;5;241m=\u001b[39mh,\n\u001b[0;32m   2474\u001b[0m         facecolor\u001b[38;5;241m=\u001b[39mc,\n\u001b[1;32m   (...)\u001b[0m\n\u001b[0;32m   2478\u001b[0m         hatch\u001b[38;5;241m=\u001b[39mhtch,\n\u001b[0;32m   2479\u001b[0m         )\n\u001b[1;32m-> 2480\u001b[0m     \u001b[43mr\u001b[49m\u001b[38;5;241;43m.\u001b[39;49m\u001b[43m_internal_update\u001b[49m\u001b[43m(\u001b[49m\u001b[43mkwargs\u001b[49m\u001b[43m)\u001b[49m\n\u001b[0;32m   2481\u001b[0m     r\u001b[38;5;241m.\u001b[39mget_path()\u001b[38;5;241m.\u001b[39m_interpolation_steps \u001b[38;5;241m=\u001b[39m \u001b[38;5;241m100\u001b[39m\n\u001b[0;32m   2482\u001b[0m     \u001b[38;5;28;01mif\u001b[39;00m orientation \u001b[38;5;241m==\u001b[39m \u001b[38;5;124m'\u001b[39m\u001b[38;5;124mvertical\u001b[39m\u001b[38;5;124m'\u001b[39m:\n",
      "File \u001b[1;32mc:\\Users\\Daniyal\\anaconda3\\envs\\cs418env\\Lib\\site-packages\\matplotlib\\artist.py:1223\u001b[0m, in \u001b[0;36mArtist._internal_update\u001b[1;34m(self, kwargs)\u001b[0m\n\u001b[0;32m   1216\u001b[0m \u001b[38;5;28;01mdef\u001b[39;00m \u001b[38;5;21m_internal_update\u001b[39m(\u001b[38;5;28mself\u001b[39m, kwargs):\n\u001b[0;32m   1217\u001b[0m \u001b[38;5;250m    \u001b[39m\u001b[38;5;124;03m\"\"\"\u001b[39;00m\n\u001b[0;32m   1218\u001b[0m \u001b[38;5;124;03m    Update artist properties without prenormalizing them, but generating\u001b[39;00m\n\u001b[0;32m   1219\u001b[0m \u001b[38;5;124;03m    errors as if calling `set`.\u001b[39;00m\n\u001b[0;32m   1220\u001b[0m \n\u001b[0;32m   1221\u001b[0m \u001b[38;5;124;03m    The lack of prenormalization is to maintain backcompatibility.\u001b[39;00m\n\u001b[0;32m   1222\u001b[0m \u001b[38;5;124;03m    \"\"\"\u001b[39;00m\n\u001b[1;32m-> 1223\u001b[0m     \u001b[38;5;28;01mreturn\u001b[39;00m \u001b[38;5;28;43mself\u001b[39;49m\u001b[38;5;241;43m.\u001b[39;49m\u001b[43m_update_props\u001b[49m\u001b[43m(\u001b[49m\n\u001b[0;32m   1224\u001b[0m \u001b[43m        \u001b[49m\u001b[43mkwargs\u001b[49m\u001b[43m,\u001b[49m\u001b[43m \u001b[49m\u001b[38;5;124;43m\"\u001b[39;49m\u001b[38;5;132;43;01m{cls.__name__}\u001b[39;49;00m\u001b[38;5;124;43m.set() got an unexpected keyword argument \u001b[39;49m\u001b[38;5;124;43m\"\u001b[39;49m\n\u001b[0;32m   1225\u001b[0m \u001b[43m        \u001b[49m\u001b[38;5;124;43m\"\u001b[39;49m\u001b[38;5;132;43;01m{prop_name!r}\u001b[39;49;00m\u001b[38;5;124;43m\"\u001b[39;49m\u001b[43m)\u001b[49m\n",
      "File \u001b[1;32mc:\\Users\\Daniyal\\anaconda3\\envs\\cs418env\\Lib\\site-packages\\matplotlib\\artist.py:1197\u001b[0m, in \u001b[0;36mArtist._update_props\u001b[1;34m(self, props, errfmt)\u001b[0m\n\u001b[0;32m   1195\u001b[0m             func \u001b[38;5;241m=\u001b[39m \u001b[38;5;28mgetattr\u001b[39m(\u001b[38;5;28mself\u001b[39m, \u001b[38;5;124mf\u001b[39m\u001b[38;5;124m\"\u001b[39m\u001b[38;5;124mset_\u001b[39m\u001b[38;5;132;01m{\u001b[39;00mk\u001b[38;5;132;01m}\u001b[39;00m\u001b[38;5;124m\"\u001b[39m, \u001b[38;5;28;01mNone\u001b[39;00m)\n\u001b[0;32m   1196\u001b[0m             \u001b[38;5;28;01mif\u001b[39;00m \u001b[38;5;129;01mnot\u001b[39;00m \u001b[38;5;28mcallable\u001b[39m(func):\n\u001b[1;32m-> 1197\u001b[0m                 \u001b[38;5;28;01mraise\u001b[39;00m \u001b[38;5;167;01mAttributeError\u001b[39;00m(\n\u001b[0;32m   1198\u001b[0m                     errfmt\u001b[38;5;241m.\u001b[39mformat(\u001b[38;5;28mcls\u001b[39m\u001b[38;5;241m=\u001b[39m\u001b[38;5;28mtype\u001b[39m(\u001b[38;5;28mself\u001b[39m), prop_name\u001b[38;5;241m=\u001b[39mk))\n\u001b[0;32m   1199\u001b[0m             ret\u001b[38;5;241m.\u001b[39mappend(func(v))\n\u001b[0;32m   1200\u001b[0m \u001b[38;5;28;01mif\u001b[39;00m ret:\n",
      "\u001b[1;31mAttributeError\u001b[0m: Rectangle.set() got an unexpected keyword argument 'legend'"
     ]
    },
    {
     "data": {
      "image/png": "[encoded data removed]",
      "text/plain": [
       "<Figure size 1200x700 with 1 Axes>"
      ]
     },
     "metadata": {},
     "output_type": "display_data"
    }
   ],
   "source": [
    "# Ensure 'Vaccine Series Completed Percent' is numeric\n",
    "df_processed['Vaccine Series Completed Percent'] = pd.to_numeric(df_processed['Vaccine Series Completed Percent'], errors='coerce')\n",
    "\n",
    "# Since we've coerced errors, there might be NaNs introduced if there were non-numeric values. Let's drop these.\n",
    "df_processed.dropna(subset=['Vaccine Series Completed Percent'], inplace=True)\n",
    "\n",
    "latest_week = df_processed['week_start'].max()\n",
    "demographic_columns = [col for col in df_processed.columns if col.startswith('Race/Ethnicity_')]\n",
    "\n",
    "# Retry summarizing the average vaccination completion percent across different demographics for the latest week\n",
    "avg_vaccination_by_demographic = df_processed[df_processed['week_start'] == latest_week][demographic_columns + ['Vaccine Series Completed Percent']].groupby(demographic_columns).mean().reset_index()\n",
    "\n",
    "# Melt the DataFrame to make it suitable for seaborn barplot again\n",
    "avg_vaccination_melted = avg_vaccination_by_demographic.melt(id_vars=['Vaccine Series Completed Percent'], var_name='Demographic Group', value_name='Presence')\n",
    "\n",
    "# Filter out rows where the demographic group is not present\n",
    "avg_vaccination_melted_filtered = avg_vaccination_melted[avg_vaccination_melted['Presence'] == 1]\n",
    "\n",
    "bar_colors = ['skyblue', 'orange', 'green', 'red', 'purple']\n",
    "\n",
    "\n",
    "# Visualize again\n",
    "plt.figure(figsize=(12, 7))\n",
    "sns.barplot(data=avg_vaccination_melted_filtered, x='Demographic Group', y='Vaccine Series Completed Percent', errorbar=None, palette=bar_colors, hue='Demographic Group', legend=False)\n",
    "plt.title('Vaccination Completion Percent by Demographic Group for the Latest Week')\n",
    "plt.xlabel('Demographic Group')\n",
    "plt.ylabel('Average Vaccination Completion Percent')\n",
    "plt.xticks(rotation=45)\n",
    "plt.tight_layout()\n",
    "\n",
    "# Show the plot\n",
    "plt.show()\n"
   ]
  },
  {
   "cell_type": "markdown",
   "metadata": {},
   "source": [
    "### Inference/Interpretation:\n",
    "- This graph shows the absolute average vaccination completion percent with regards to their Ethnicity.\n",
    "- This shows that the least vaccinated are the Black group and the most are the Asians but the surprising part is that it is not the whites as they are at a tie with the Latinx group."
   ]
  },
  {
   "cell_type": "markdown",
   "metadata": {},
   "source": [
    "## `Machine Learning analysis:`\n",
    "1. **Feature Selection**: Choosing relevant features for the ML model, including demographic indicators, COVID-19 case numbers, and temporal features.\n",
    "2. **Model Development**: Selecting and training an ML model to analyze the impact of COVID-19 case increases on vaccination rates among different demographics.\n",
    "3. **Model Evaluation**: Comparing the model's predictions to a baseline, assessing its performance, and interpreting the results to derive actionable insights.\n",
    "\n",
    "### Feature Selection\n",
    "I will select features that are likely to influence vaccination rates, including:\n",
    "- **Temporal Features**: `week_start` (converted to a numerical format), to capture time trends.\n",
    "- **COVID-19 Case Numbers**: `lab_tot_positive` or `lab_pct_positive`, to measure the impact of COVID-19 spread.\n",
    "- **Demographic Indicators**: One-hot encoded `Race/Ethnicity_*` columns, to assess disparities among different demographics.\n",
    "\n",
    "### Model Development\n",
    "For simplicity and interpretability, I will start with a Linear Regression model. This model will help us understand the relationship between our selected features and vaccination rates.\n",
    "\n",
    "### Preparing the Data\n",
    "- Convert `week_start` to a numerical format by calculating the number of days since the first date in the dataset.\n",
    "- Select the outcome variable: `Vaccine Series Completed Percent`.\n",
    "- Removing Rows with Missing `y` Values: This is the simplest approach, where we only keep rows that have a non-missing outcome variable.\n",
    "- Imputation: Replace missing values with a statistic, such as the mean or median of the column. For the outcome variable, this approach might not always be suitable, as it could introduce bias.\n",
    "- Split the data into training and testing sets to evaluate the model's performance.\n",
    "\n",
    "Given the nature of our analysis, removing rows with missing `y` values might be the most straightforward and least biased approach.\n",
    "\n",
    "The Mean Squared Error (MSE) for the test set, after removing rows with missing outcome variable values and retraining the Linear Regression model, is approximately 0.090. This metric quantifies the average squared difference between the observed actual outcomes and the outcomes predicted by the model. A lower MSE indicates a better fit of the model to the data.\n",
    "\n",
    "### Interpretation\n",
    "- **Interpretation**: The obtained MSE can be used to evaluate the performance of the model. However, understanding its implications requires context, such as the variance of the `Vaccine Series Completed Percent` across the dataset and comparisons to baseline models or other ML models.\n",
    "- **Model Coefficients**: Analyzing the coefficients of the Linear Regression model could provide insights into how different features, including demographic indicators and COVID-19 case numbers, impact vaccination rates.\n",
    "- **Improvements**: I am going to consider exploring other models to improve model performance."
   ]
  },
  {
   "cell_type": "markdown",
   "metadata": {},
   "source": [
    "### Making predictions on what should be the target demographic for advertisments"
   ]
  },
  {
   "cell_type": "code",
   "execution_count": null,
   "metadata": {},
   "outputs": [],
   "source": [
    "# Convert 'week_start' to datetime format and calculate the number of days since the first record\n",
    "df_processed['week_start'] = pd.to_datetime(df_processed['week_start'])\n",
    "df_processed['days_since_start'] = (df_processed['week_start'] - df_processed['week_start'].min()).dt.days\n",
    "\n",
    "# Feature selection\n",
    "X_features = ['days_since_start', 'lab_tot_positive'] + demographic_columns\n",
    "y_feature = 'Vaccine Series Completed Percent'\n",
    "\n",
    "df_cleaned = df_processed.dropna(subset=[y_feature])\n",
    "\n",
    "# Prepare the data again with the cleaned DataFrame\n",
    "X_cleaned = df_cleaned[X_features]\n",
    "y_cleaned = df_cleaned[y_feature]\n",
    "\n",
    "# Split the data into training and testing sets\n",
    "X_train_cleaned, X_test_cleaned, y_train_cleaned, y_test_cleaned = train_test_split(X_cleaned, y_cleaned, test_size=0.2, random_state=42)\n"
   ]
  },
  {
   "cell_type": "markdown",
   "metadata": {},
   "source": [
    "#### Creating a baseline and calculating it's mse to compare it to the trained model:\n",
    "In the context of our analysis, a baseline model serves as a simple reference point to compare the performance of our more complex machine learning models. It helps us understand the added value of our model in predicting vaccination completion percentages. For regression task at hand:\n",
    "\n",
    "1. **Mean Model**: Predicts the mean of the target variable for all instances, regardless of the input features. This model's performance can be measured using metrics like Mean Squared Error (MSE), providing a basic benchmark for improvement.\n",
    "\n",
    "### Establishing a Baseline\n",
    "For our analysis, the **mean model** serves as a straightforward and intuitive baseline. We'll calculate the mean of the `Vaccine Series Completed Percent` from the training data and use this as a constant prediction for all instances in the test set. We can then calculate the MSE of this baseline to compare it against the MSE from our linear regression model.\n",
    "\n",
    "### Calculating the Baseline Performance\n",
    "The baseline MSE offers a point of comparison for evaluating the linear regression model. If the MSE of the linear regression model is significantly lower than the baseline MSE, this indicates that our model provides a better fit to the data than the simple average, thereby offering more precise predictions about vaccination rates.\n"
   ]
  },
  {
   "cell_type": "code",
   "execution_count": null,
   "metadata": {},
   "outputs": [
    {
     "data": {
      "text/plain": [
       "0.12412773424902467"
      ]
     },
     "execution_count": 152,
     "metadata": {},
     "output_type": "execute_result"
    }
   ],
   "source": [
    "# Calculate the mean of the target variable from the training data\n",
    "mean_vaccination_rate = y_train_cleaned.mean()\n",
    "\n",
    "# Create an array of the same mean value to serve as our baseline predictions\n",
    "baseline_predictions = np.full(shape=y_test_cleaned.shape, fill_value=mean_vaccination_rate)\n",
    "\n",
    "# Calculate the Mean Squared Error (MSE) for the baseline model\n",
    "baseline_mse = mean_squared_error(y_test_cleaned, baseline_predictions)\n",
    "\n",
    "# Display the baseline MSE\n",
    "baseline_mse"
   ]
  },
  {
   "cell_type": "markdown",
   "metadata": {},
   "source": [
    "#### Training the model, making predictions and printing out mse to compare to baseline:"
   ]
  },
  {
   "cell_type": "code",
   "execution_count": null,
   "metadata": {},
   "outputs": [
    {
     "data": {
      "text/plain": [
       "0.09015084515057206"
      ]
     },
     "execution_count": 153,
     "metadata": {},
     "output_type": "execute_result"
    }
   ],
   "source": [
    "\n",
    "# Re-initialize and re-train the Linear Regression model on the cleaned data\n",
    "model_cleaned = LinearRegression()\n",
    "model_cleaned.fit(X_train_cleaned, y_train_cleaned)\n",
    "\n",
    "# Predict on the testing set\n",
    "y_pred_cleaned = model_cleaned.predict(X_test_cleaned)\n",
    "\n",
    "# Calculate the Mean Squared Error (MSE) for the test set with cleaned data\n",
    "mse_cleaned = mean_squared_error(y_test_cleaned, y_pred_cleaned)\n",
    "\n",
    "# Display the MSE\n",
    "mse_cleaned"
   ]
  },
  {
   "cell_type": "code",
   "execution_count": null,
   "metadata": {},
   "outputs": [
    {
     "data": {
      "text/html": [
       "<div>\n",
       "<style scoped>\n",
       "    .dataframe tbody tr th:only-of-type {\n",
       "        vertical-align: middle;\n",
       "    }\n",
       "\n",
       "    .dataframe tbody tr th {\n",
       "        vertical-align: top;\n",
       "    }\n",
       "\n",
       "    .dataframe thead th {\n",
       "        text-align: right;\n",
       "    }\n",
       "</style>\n",
       "<table border=\"1\" class=\"dataframe\">\n",
       "  <thead>\n",
       "    <tr style=\"text-align: right;\">\n",
       "      <th></th>\n",
       "      <th>Feature</th>\n",
       "      <th>Coefficient</th>\n",
       "    </tr>\n",
       "  </thead>\n",
       "  <tbody>\n",
       "    <tr>\n",
       "      <th>5</th>\n",
       "      <td>Race/Ethnicity_Other, non-Latinx</td>\n",
       "      <td>0.190503</td>\n",
       "    </tr>\n",
       "    <tr>\n",
       "      <th>3</th>\n",
       "      <td>Race/Ethnicity_Black, non-Latinx</td>\n",
       "      <td>-0.121842</td>\n",
       "    </tr>\n",
       "    <tr>\n",
       "      <th>2</th>\n",
       "      <td>Race/Ethnicity_Asian, non-Latinx</td>\n",
       "      <td>0.067921</td>\n",
       "    </tr>\n",
       "    <tr>\n",
       "      <th>4</th>\n",
       "      <td>Race/Ethnicity_Latinx</td>\n",
       "      <td>0.027071</td>\n",
       "    </tr>\n",
       "    <tr>\n",
       "      <th>0</th>\n",
       "      <td>days_since_start</td>\n",
       "      <td>0.000542</td>\n",
       "    </tr>\n",
       "    <tr>\n",
       "      <th>7</th>\n",
       "      <td>Race/Ethnicity_White, non-Latinx</td>\n",
       "      <td>0.000517</td>\n",
       "    </tr>\n",
       "    <tr>\n",
       "      <th>1</th>\n",
       "      <td>lab_tot_positive</td>\n",
       "      <td>0.000026</td>\n",
       "    </tr>\n",
       "    <tr>\n",
       "      <th>6</th>\n",
       "      <td>Race/Ethnicity_Unknown</td>\n",
       "      <td>0.000000</td>\n",
       "    </tr>\n",
       "  </tbody>\n",
       "</table>\n",
       "</div>"
      ],
      "text/plain": [
       "                            Feature  Coefficient\n",
       "5  Race/Ethnicity_Other, non-Latinx     0.190503\n",
       "3  Race/Ethnicity_Black, non-Latinx    -0.121842\n",
       "2  Race/Ethnicity_Asian, non-Latinx     0.067921\n",
       "4             Race/Ethnicity_Latinx     0.027071\n",
       "0                  days_since_start     0.000542\n",
       "7  Race/Ethnicity_White, non-Latinx     0.000517\n",
       "1                  lab_tot_positive     0.000026\n",
       "6            Race/Ethnicity_Unknown     0.000000"
      ]
     },
     "execution_count": 154,
     "metadata": {},
     "output_type": "execute_result"
    }
   ],
   "source": [
    "# Retrieve the model coefficients\n",
    "coefficients = model_cleaned.coef_\n",
    "\n",
    "# Create a DataFrame to display feature names alongside their coefficients\n",
    "coefficients_df = pd.DataFrame(data={'Feature': X_features, 'Coefficient': coefficients})\n",
    "\n",
    "# Display the DataFrame sorted by the absolute value of coefficients for better interpretation\n",
    "coefficients_df.sort_values(by='Coefficient', key=abs, ascending=False)\n"
   ]
  },
  {
   "cell_type": "markdown",
   "metadata": {},
   "source": [
    "To gain insights into how the increase in COVID-19 cases and demographic factors influence vaccination rates, we'll examine the coefficients of the trained Linear Regression model. These coefficients quantify the relationship between each feature and the target variable, `Vaccine Series Completed Percent`, giving us a direct interpretation of their influence.\n",
    "\n",
    "### Analyzing Model Coefficients\n",
    "\n",
    "1. **Coefficient Interpretation**: For continuous features like `days_since_start` and `lab_tot_positive`, the coefficient value indicates the expected change in the vaccination completion percentage for a one-unit increase in the feature, holding all other features constant. For binary features resulting from one-hot encoding (e.g., demographic groups), the coefficient represents the difference in the vaccination completion percentage compared to the baseline category (which was dropped during one-hot encoding), again holding other variables constant.\n",
    "\n",
    "2. **Significance**: The magnitude and sign of each coefficient provide insights into the feature's impact. Positive coefficients indicate a direct relationship with vaccination rates, while negative coefficients suggest an inverse relationship.\n",
    "\n",
    "Let's retrieve and interpret the coefficients of our Linear Regression model.\n",
    "\n",
    "The coefficients of our Linear Regression model provide the following insights into the relationship between the features and the `Vaccine Series Completed Percent`:\n",
    "\n",
    "1. **Demographic Indicators**:\n",
    "   - The `Race/Ethnicity_Other, non-Latinx` group shows a positive coefficient of 0.190, suggesting a higher vaccination completion percentage compared to the baseline demographic group, holding all other variables constant.\n",
    "   - Conversely, the `Race/Ethnicity_Black, non-Latinx` group has a negative coefficient (-0.121), indicating a lower vaccination completion percentage compared to the baseline, all else being equal.\n",
    "   - Other demographic groups (`Asian, non-Latinx`, `Latinx`, and `White, non-Latinx`) also show positive coefficients but with smaller magnitudes, suggesting varying degrees of influence on vaccination rates.\n",
    "\n",
    "2. **Temporal Feature (`days_since_start`)**:\n",
    "   - The positive coefficient (0.000542) implies that as time progresses, there's a slight increase in the vaccination completion percentage, which could reflect the overall trend of vaccination rollout over time.\n",
    "\n",
    "3. **COVID-19 Case Numbers (`lab_tot_positive`)**:\n",
    "   - The very small positive coefficient (0.000026) indicates that higher numbers of COVID-19 positive cases are slightly associated with an increase in vaccination completion rates, though the effect size is minimal.\n",
    "\n",
    "4. **Significance and Impact**:\n",
    "   - The largest impacts on vaccination rates, according to this model, come from demographic factors, particularly for the `Other, non-Latinx` and `Black, non-Latinx` groups, highlighting disparities in vaccination rates among different demographics.\n",
    "   - The effect of time and COVID-19 case numbers on vaccination rates is present but relatively minor compared to the impact of demographic factors.\n",
    "\n",
    "### Next Steps:\n",
    "Given these findings, targeted initiatives to increase vaccination rates could focus on demographic groups identified as having lower vaccination completion percentages.\n",
    "- Alternative modeling approaches, such as logistic regression for binary outcomes to potentially uncover non-linear relationships or interactions between features."
   ]
  },
  {
   "cell_type": "markdown",
   "metadata": {},
   "source": [
    "### Key Interpretations and Implications:\n",
    "\n",
    "1. **Demographic Disparities**:\n",
    "   - **Other, non-Latinx**: The most significant positive influence on vaccination rates suggests that this group, relative to the baseline demographic, has higher vaccination completion rates. This could indicate successful outreach or higher acceptance rates within this group. Public health strategies targeting other groups might learn from approaches used with this demographic.\n",
    "   - **Black, non-Latinx**: The negative coefficient points to lower vaccination rates in this group compared to the baseline, underscoring the need for targeted public health messaging and vaccination initiatives that address the specific concerns and barriers faced by Black, non-Latinx communities.\n",
    "   - Other demographic groups also show varying degrees of influence, highlighting the nuanced landscape of vaccination acceptance and access across different demographics. Tailoring strategies to each group's unique context and barriers could improve overall vaccination rates.\n",
    "\n",
    "2. **Temporal Trends**:\n",
    "   - The positive coefficient associated with `days_since_start` suggests a gradual increase in vaccination rates over time. This trend likely reflects the expanding availability of vaccines and the cumulative effect of ongoing public health campaigns. Continuous efforts are necessary to maintain and accelerate this positive trend.\n",
    "\n",
    "3. **COVID-19 Case Numbers**:\n",
    "   - The small positive coefficient for `lab_tot_positive` suggests that increases in COVID-19 cases have a marginal association with higher vaccination rates. This could indicate a reactive increase in vaccination efforts following surges in cases, but the small magnitude of this effect suggests that case surges alone are not a strong driver of vaccination uptake. Proactive, sustained vaccination campaigns may be more effective than relying on reactive increases following case surges.\n",
    "\n",
    "### Strategic Implications for Public Health:\n",
    "- **Targeted Initiatives**: The disparities among demographic groups highlight the need for targeted vaccination initiatives. Understanding and addressing the barriers specific to groups with lower vaccination rates are crucial.\n",
    "- **Enhanced Outreach and Education**: For demographics showing resistance or lower rates of vaccination, such as the Black, non-Latinx community, enhanced outreach programs, community engagement, and education efforts could help address concerns and misinformation.\n",
    "- **Monitoring and Adaptation**: The ongoing analysis of vaccination trends and their correlation with COVID-19 case numbers can inform adaptive strategies that preemptively address potential surges in cases through increased vaccination efforts.\n",
    "\n",
    "### Conclusion and Next Steps:\n",
    "This analysis underscores the importance of demographic considerations and the dynamic nature of vaccination campaigns in response to COVID-19. For public health officials and policymakers, these insights can inform more effective, equitable vaccination initiatives that are responsive to community needs and changing circumstances.\n",
    "\n",
    "Further investigation could include:\n",
    "- **Exploring Interaction Effects**: Analyzing how demographic factors interact with temporal trends might reveal more complex dynamics influencing vaccination rates.\n",
    "- **Alternative Modeling Approaches**: Using models that capture non-linear relationships or interactions could provide additional insights into factors influencing vaccination rates."
   ]
  },
  {
   "cell_type": "code",
   "execution_count": null,
   "metadata": {},
   "outputs": [
    {
     "data": {
      "image/png": "[encoded data removed]",
      "text/plain": [
       "<Figure size 1000x600 with 1 Axes>"
      ]
     },
     "metadata": {},
     "output_type": "display_data"
    }
   ],
   "source": [
    "# Scatter plot of Actual vs. Predicted values\n",
    "plt.figure(figsize=(10, 6))\n",
    "plt.scatter(y_test_cleaned, y_pred_cleaned, alpha=0.5, color='blue')\n",
    "plt.title('Actual vs. Predicted Vaccination Completion Percent')\n",
    "plt.xlabel('Actual Values')\n",
    "plt.ylabel('Predicted Values')\n",
    "plt.plot([y_test_cleaned.min(), y_test_cleaned.max()], [y_test_cleaned.min(), y_test_cleaned.max()], 'k--', lw=2)\n",
    "plt.tight_layout()\n",
    "\n",
    "# Show the plot\n",
    "plt.show()\n"
   ]
  },
  {
   "cell_type": "markdown",
   "metadata": {},
   "source": [
    "### Visualization description:\n",
    "To visualize the regression analysis we performed, especially for a linear regression model, I have ploted the actual versus predicted values to assess how well the model fits the data. \n",
    "\n",
    "This plot includes a dashed line representing perfect predictions (where actual values equal predicted values) to help visually assess the model's accuracy. Points close to this line indicate accurate predictions, while points farther away represent larger discrepancies between the model's predictions and the actual data."
   ]
  },
  {
   "cell_type": "markdown",
   "metadata": {},
   "source": [
    "### Reflection:\n",
    "- The hardest part I encountered was data cleaning and making the input features for the machine learning model as I had some missing values for some reason and they were hard to figure out how to take care of them.\n",
    "- My inital insights are that we need to focus on the minority of the african-americans for the vaccination campaigns.\n",
    "- Going forward I do not thing that there are any major problems that me and my team is facing.\n",
    "- There are concrete results that are from my model and they are displayed in the notebook.\n",
    "- I think we are on track with the project.\n",
    "- Yes I think it is worth proceeding with the project as we have enough data to support our hypothesis and make predictions based on the data that we have which will indicate the ethnicity of the target advertisments.\n",
    "\n",
    "### Next Steps:\n",
    "Given these findings, targeted initiatives to increase vaccination rates could focus on demographic groups identified as having lower vaccination completion percentages.\n",
    "- Alternative modeling approaches, such as logistic regression for binary outcomes to potentially uncover non-linear relationships or interactions between features.\n",
    "\n",
    "### Any changes:\n",
    "- There are no changes to the scope of the project and we will proceed as intened for the project."
   ]
  }
 ],
 "metadata": {
  "kernelspec": {
   "display_name": "Python 3 (ipykernel)",
   "language": "python",
   "name": "python3"
  },
  "language_info": {
   "codemirror_mode": {
    "name": "ipython",
    "version": 3
   },
   "file_extension": ".py",
   "mimetype": "text/x-python",
   "name": "python",
   "nbconvert_exporter": "python",
   "pygments_lexer": "ipython3",
   "version": "3.11.5"
  }
 },
 "nbformat": 4,
 "nbformat_minor": 4
}
